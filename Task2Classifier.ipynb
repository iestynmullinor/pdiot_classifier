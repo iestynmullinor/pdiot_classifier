{
 "cells": [
  {
   "cell_type": "code",
   "execution_count": 7,
   "metadata": {},
   "outputs": [],
   "source": [
    "\n",
    "GYRO = False\n",
    "SEQUENCE_LENGTH = 5\n",
    "SEQUENCE_OVERLAP = 4\n",
    "BATCH_SIZE = 10\n",
    "EPOCHS = 50\n",
    "MODEL_NAME = f\"physical_activity_epochs:{EPOCHS}_batch:{BATCH_SIZE}_gyro:{GYRO}_window:{SEQUENCE_LENGTH}_overlap:{SEQUENCE_OVERLAP}.keras\""
   ]
  },
  {
   "cell_type": "markdown",
   "metadata": {},
   "source": [
    "# EDIT THE VALUES IN THE CELL ABOVE THEN PRESS RUN ALL"
   ]
  },
  {
   "cell_type": "code",
   "execution_count": 8,
   "metadata": {},
   "outputs": [],
   "source": [
    "import file_tagger\n",
    "import sequence_genrator\n",
    "import tensorflow as tf\n",
    "import numpy as np\n",
    "from keras import layers, Sequential, models\n",
    "from sklearn.model_selection import train_test_split\n"
   ]
  },
  {
   "cell_type": "code",
   "execution_count": 9,
   "metadata": {},
   "outputs": [],
   "source": [
    "DATA_DIRECTORY = \"./all_respeck\"\n",
    "RESPIRATORY_ACTIVITIES = {\n",
    "    \"sitting&coughing\",\n",
    "    \"sitting&hyperventilating\",\n",
    "    \n",
    "    \"standing&coughing\",\n",
    "    \"standing&hyperventilating\",\n",
    "    \n",
    "    \"lying_down_back&coughing\",\n",
    "    \"lying_down_back&hyperventilating\",\n",
    "    \n",
    "    \"lying_down_stomach&coughing\",\n",
    "    \"lying_down_stomach&hyperventilating\",\n",
    "    \n",
    "    \"lying_down_right&coughing\",\n",
    "    \"lying_down_right&hyperventilating\",\n",
    "    \n",
    "    \"lying_down_left&coughing\",\n",
    "    \"lying_down_left&hyperventilating\",\n",
    "}"
   ]
  },
  {
   "cell_type": "code",
   "execution_count": 10,
   "metadata": {},
   "outputs": [],
   "source": [
    "def generate_training_data(directory, sequence_length, overlap, gyro = GYRO): # if gyro is false, only accelerometer data is used\n",
    "\n",
    "    tagged_data = []\n",
    "\n",
    "    # group each csv file into their respective areas\n",
    "    csv_dictionary = file_tagger.tag_directory(directory)\n",
    "\n",
    "    # iterates through each activity\n",
    "    for key in RESPIRATORY_ACTIVITIES:\n",
    "\n",
    "        # iterates through each csv file for the activity \n",
    "        for csv_file in csv_dictionary[key]:\n",
    "            if gyro:\n",
    "                sequences = sequence_genrator.generate_sequences_from_file_with_gyroscope(directory + \"/\" + csv_file, sequence_length, overlap)\n",
    "            else:\n",
    "                sequences = sequence_genrator.generate_sequences_from_file_without_gyroscope(directory + \"/\" + csv_file, sequence_length, overlap)\n",
    "\n",
    "            # iterate through each generated sequence\n",
    "            for sequence in sequences:\n",
    "                tagged_data.append((key, sequence))\n",
    "\n",
    "    print (\"there are \" + str(len(tagged_data)) + \" tagged sequences in the dataset\")\n",
    "    return tagged_data"
   ]
  },
  {
   "cell_type": "code",
   "execution_count": 11,
   "metadata": {},
   "outputs": [],
   "source": [
    "# split data into training, dev, and test sets\n",
    "def train_dev_test_split(data, labels, dev_size, test_size, random_state=42):\n",
    "    # Split the data into training and temporary (dev + test) sets\n",
    "    train_data, temp_data, train_labels, temp_labels = train_test_split(data, labels, test_size=(dev_size + test_size), random_state=random_state)\n",
    "    \n",
    "    # Split the temporary data into dev and test sets\n",
    "    dev_data, test_data, dev_labels, test_labels = train_test_split(temp_data, temp_labels, \n",
    "                                                                 test_size=(test_size / (dev_size + test_size)), random_state=random_state)\n",
    "    \n",
    "    return train_data, dev_data, test_data, train_labels, dev_labels, test_labels"
   ]
  },
  {
   "cell_type": "code",
   "execution_count": 12,
   "metadata": {},
   "outputs": [
    {
     "name": "stdout",
     "output_type": "stream",
     "text": [
      "there are 14340 tagged sequences in the dataset\n"
     ]
    }
   ],
   "source": [
    "tagged_sequences = generate_training_data(DATA_DIRECTORY, SEQUENCE_LENGTH, SEQUENCE_OVERLAP)\n",
    "\n",
    "# Combine all sequences and labels\n",
    "sequences = [sequence for _, sequence in tagged_sequences]\n",
    "labels = [label for label, _ in tagged_sequences]\n",
    "\n",
    "\n",
    "# encode labels to numbers\n",
    "sequences = np.array(sequences, dtype=np.float32)\n",
    "label_to_index = {label: idx for idx, label in enumerate(RESPIRATORY_ACTIVITIES)}\n",
    "labels_encoded = [label_to_index[label] for label in labels]\n",
    "labels_encoded = np.array(labels_encoded)"
   ]
  },
  {
   "cell_type": "code",
   "execution_count": 13,
   "metadata": {},
   "outputs": [],
   "source": [
    "#CNN MODEL\n",
    "def train_model_CNN(input_data, labels_encoded, unique_labels, epochs, batch_size, validation_data):\n",
    "    if GYRO:\n",
    "        width = 6\n",
    "    else:\n",
    "        width = 3\n",
    "    # Define the CNN model for your specific input shape\n",
    "    model = Sequential([\n",
    "        layers.Conv1D(32, 3, activation='relu', input_shape=(SEQUENCE_LENGTH*25, width)),\n",
    "        layers.MaxPooling1D(2),\n",
    "        layers.Conv1D(64, 3, activation='relu'),\n",
    "        layers.MaxPooling1D(2),\n",
    "        layers.Conv1D(64, 3, activation='relu'),\n",
    "        layers.MaxPooling1D(2),\n",
    "        layers.Conv1D(128, 3, activation='relu'),\n",
    "        layers.MaxPooling1D(2),\n",
    "        layers.Dropout(0.5),\n",
    "        layers.Flatten(),\n",
    "        layers.Dense(64, activation='relu'),\n",
    "        layers.Dense(len(unique_labels), activation='softmax')\n",
    "    ])\n",
    "\n",
    "    model.compile(optimizer='adam', loss='sparse_categorical_crossentropy', metrics=['accuracy'])\n",
    "\n",
    "    # Train the CNN model\n",
    "    model.fit(input_data, labels_encoded, epochs=epochs, batch_size=batch_size, validation_data=validation_data)\n",
    "\n",
    "    return model"
   ]
  },
  {
   "cell_type": "code",
   "execution_count": 14,
   "metadata": {},
   "outputs": [
    {
     "name": "stdout",
     "output_type": "stream",
     "text": [
      "Epoch 1/50\n",
      "1148/1148 [==============================] - 8s 6ms/step - loss: 1.0963 - accuracy: 0.4244 - val_loss: 0.9704 - val_accuracy: 0.4623\n",
      "Epoch 2/50\n",
      "1148/1148 [==============================] - 6s 5ms/step - loss: 0.9955 - accuracy: 0.4443 - val_loss: 0.9494 - val_accuracy: 0.4589\n",
      "Epoch 3/50\n",
      "1148/1148 [==============================] - 6s 5ms/step - loss: 0.9636 - accuracy: 0.4648 - val_loss: 0.9086 - val_accuracy: 0.5265\n",
      "Epoch 4/50\n",
      "1148/1148 [==============================] - 6s 5ms/step - loss: 0.9299 - accuracy: 0.4952 - val_loss: 0.9134 - val_accuracy: 0.5363\n",
      "Epoch 5/50\n",
      "1148/1148 [==============================] - 6s 6ms/step - loss: 0.8026 - accuracy: 0.6241 - val_loss: 0.6764 - val_accuracy: 0.7141\n",
      "Epoch 6/50\n",
      "1148/1148 [==============================] - 6s 5ms/step - loss: 0.6223 - accuracy: 0.7374 - val_loss: 0.5197 - val_accuracy: 0.8033\n",
      "Epoch 7/50\n",
      "1148/1148 [==============================] - 6s 5ms/step - loss: 0.5292 - accuracy: 0.7741 - val_loss: 0.5380 - val_accuracy: 0.7852\n",
      "Epoch 8/50\n",
      "1148/1148 [==============================] - 6s 6ms/step - loss: 0.4869 - accuracy: 0.7925 - val_loss: 0.3842 - val_accuracy: 0.8347\n",
      "Epoch 9/50\n",
      "1148/1148 [==============================] - 6s 5ms/step - loss: 0.4353 - accuracy: 0.8120 - val_loss: 0.5021 - val_accuracy: 0.7755\n",
      "Epoch 10/50\n",
      "1148/1148 [==============================] - 6s 6ms/step - loss: 0.4294 - accuracy: 0.8164 - val_loss: 0.4156 - val_accuracy: 0.8180\n",
      "Epoch 11/50\n",
      "1148/1148 [==============================] - 7s 6ms/step - loss: 0.4033 - accuracy: 0.8296 - val_loss: 0.4211 - val_accuracy: 0.8543\n",
      "Epoch 12/50\n",
      "1148/1148 [==============================] - 7s 6ms/step - loss: 0.3998 - accuracy: 0.8319 - val_loss: 0.3914 - val_accuracy: 0.8145\n",
      "Epoch 13/50\n",
      "1148/1148 [==============================] - 7s 6ms/step - loss: 0.3791 - accuracy: 0.8387 - val_loss: 0.4485 - val_accuracy: 0.8201\n",
      "Epoch 14/50\n",
      "1148/1148 [==============================] - 7s 6ms/step - loss: 0.3614 - accuracy: 0.8448 - val_loss: 0.3805 - val_accuracy: 0.8605\n",
      "Epoch 15/50\n",
      "1148/1148 [==============================] - 6s 6ms/step - loss: 0.3578 - accuracy: 0.8488 - val_loss: 0.3302 - val_accuracy: 0.8689\n",
      "Epoch 16/50\n",
      "1148/1148 [==============================] - 6s 5ms/step - loss: 0.3406 - accuracy: 0.8575 - val_loss: 0.3211 - val_accuracy: 0.8752\n",
      "Epoch 17/50\n",
      "1148/1148 [==============================] - 6s 6ms/step - loss: 0.3345 - accuracy: 0.8597 - val_loss: 0.3102 - val_accuracy: 0.8759\n",
      "Epoch 18/50\n",
      "1148/1148 [==============================] - 7s 6ms/step - loss: 0.3336 - accuracy: 0.8584 - val_loss: 0.2997 - val_accuracy: 0.8877\n",
      "Epoch 19/50\n",
      "1148/1148 [==============================] - 6s 6ms/step - loss: 0.3095 - accuracy: 0.8667 - val_loss: 0.3109 - val_accuracy: 0.8724\n",
      "Epoch 20/50\n",
      "1148/1148 [==============================] - 6s 6ms/step - loss: 0.3050 - accuracy: 0.8693 - val_loss: 0.2771 - val_accuracy: 0.8940\n",
      "Epoch 21/50\n",
      "1148/1148 [==============================] - 6s 6ms/step - loss: 0.2989 - accuracy: 0.8735 - val_loss: 0.3273 - val_accuracy: 0.8661\n",
      "Epoch 22/50\n",
      "1148/1148 [==============================] - 6s 6ms/step - loss: 0.2902 - accuracy: 0.8774 - val_loss: 0.3110 - val_accuracy: 0.8731\n",
      "Epoch 23/50\n",
      "1148/1148 [==============================] - 6s 6ms/step - loss: 0.2902 - accuracy: 0.8806 - val_loss: 0.2845 - val_accuracy: 0.8849\n",
      "Epoch 24/50\n",
      "1148/1148 [==============================] - 6s 6ms/step - loss: 0.2731 - accuracy: 0.8850 - val_loss: 0.2650 - val_accuracy: 0.8961\n",
      "Epoch 25/50\n",
      "1148/1148 [==============================] - 6s 6ms/step - loss: 0.2653 - accuracy: 0.8841 - val_loss: 0.2597 - val_accuracy: 0.8835\n",
      "Epoch 26/50\n",
      "1148/1148 [==============================] - 6s 5ms/step - loss: 0.2642 - accuracy: 0.8861 - val_loss: 0.2451 - val_accuracy: 0.8933\n",
      "Epoch 27/50\n",
      "1148/1148 [==============================] - 7s 6ms/step - loss: 0.2646 - accuracy: 0.8882 - val_loss: 0.2695 - val_accuracy: 0.8933\n",
      "Epoch 28/50\n",
      "1148/1148 [==============================] - 7s 6ms/step - loss: 0.2617 - accuracy: 0.8922 - val_loss: 0.2266 - val_accuracy: 0.9073\n",
      "Epoch 29/50\n",
      "1148/1148 [==============================] - 6s 5ms/step - loss: 0.2586 - accuracy: 0.8938 - val_loss: 0.2296 - val_accuracy: 0.9100\n",
      "Epoch 30/50\n",
      "1148/1148 [==============================] - 6s 6ms/step - loss: 0.2532 - accuracy: 0.8939 - val_loss: 0.2389 - val_accuracy: 0.8954\n",
      "Epoch 31/50\n",
      "1148/1148 [==============================] - 6s 6ms/step - loss: 0.2482 - accuracy: 0.8960 - val_loss: 0.2667 - val_accuracy: 0.8940\n",
      "Epoch 32/50\n",
      "1148/1148 [==============================] - 6s 5ms/step - loss: 0.2349 - accuracy: 0.8998 - val_loss: 0.2279 - val_accuracy: 0.9073\n",
      "Epoch 33/50\n",
      "1148/1148 [==============================] - 7s 6ms/step - loss: 0.2432 - accuracy: 0.8984 - val_loss: 0.2149 - val_accuracy: 0.9100\n",
      "Epoch 34/50\n",
      "1148/1148 [==============================] - 6s 6ms/step - loss: 0.2129 - accuracy: 0.9109 - val_loss: 0.2191 - val_accuracy: 0.9066\n",
      "Epoch 35/50\n",
      "1148/1148 [==============================] - 6s 6ms/step - loss: 0.2174 - accuracy: 0.9117 - val_loss: 0.2098 - val_accuracy: 0.9121\n",
      "Epoch 36/50\n",
      "1148/1148 [==============================] - 6s 5ms/step - loss: 0.2213 - accuracy: 0.9082 - val_loss: 0.2376 - val_accuracy: 0.9017\n",
      "Epoch 37/50\n",
      "1148/1148 [==============================] - 7s 6ms/step - loss: 0.2293 - accuracy: 0.9039 - val_loss: 0.2099 - val_accuracy: 0.9135\n",
      "Epoch 38/50\n",
      "1148/1148 [==============================] - 7s 6ms/step - loss: 0.2145 - accuracy: 0.9125 - val_loss: 0.2082 - val_accuracy: 0.9163\n",
      "Epoch 39/50\n",
      "1148/1148 [==============================] - 7s 6ms/step - loss: 0.1989 - accuracy: 0.9172 - val_loss: 0.1970 - val_accuracy: 0.9121\n",
      "Epoch 40/50\n",
      "1148/1148 [==============================] - 6s 6ms/step - loss: 0.2089 - accuracy: 0.9195 - val_loss: 0.2426 - val_accuracy: 0.9003\n",
      "Epoch 41/50\n",
      "1148/1148 [==============================] - 6s 6ms/step - loss: 0.1922 - accuracy: 0.9200 - val_loss: 0.2075 - val_accuracy: 0.9170\n",
      "Epoch 42/50\n",
      "1148/1148 [==============================] - 6s 6ms/step - loss: 0.1889 - accuracy: 0.9229 - val_loss: 0.2927 - val_accuracy: 0.8982\n",
      "Epoch 43/50\n",
      "1148/1148 [==============================] - 6s 5ms/step - loss: 0.2052 - accuracy: 0.9195 - val_loss: 0.2861 - val_accuracy: 0.9107\n",
      "Epoch 44/50\n",
      "1148/1148 [==============================] - 6s 6ms/step - loss: 0.1782 - accuracy: 0.9275 - val_loss: 0.2098 - val_accuracy: 0.9198\n",
      "Epoch 45/50\n",
      "1148/1148 [==============================] - 6s 5ms/step - loss: 0.1834 - accuracy: 0.9273 - val_loss: 0.2140 - val_accuracy: 0.9128\n",
      "Epoch 46/50\n",
      "1148/1148 [==============================] - 6s 5ms/step - loss: 0.1968 - accuracy: 0.9229 - val_loss: 0.1935 - val_accuracy: 0.9240\n",
      "Epoch 47/50\n",
      "1148/1148 [==============================] - 6s 5ms/step - loss: 0.1781 - accuracy: 0.9289 - val_loss: 0.2139 - val_accuracy: 0.9351\n",
      "Epoch 48/50\n",
      "1148/1148 [==============================] - 6s 6ms/step - loss: 0.1924 - accuracy: 0.9290 - val_loss: 0.2511 - val_accuracy: 0.9128\n",
      "Epoch 49/50\n",
      "1148/1148 [==============================] - 6s 5ms/step - loss: 0.1765 - accuracy: 0.9288 - val_loss: 0.1823 - val_accuracy: 0.9219\n",
      "Epoch 50/50\n",
      "1148/1148 [==============================] - 6s 5ms/step - loss: 0.1646 - accuracy: 0.9351 - val_loss: 0.2165 - val_accuracy: 0.9121\n",
      "45/45 [==============================] - 0s 3ms/step - loss: 0.2254 - accuracy: 0.9100\n",
      "Test Loss: 0.22541207075119019, Test Accuracy: 0.910041868686676\n"
     ]
    },
    {
     "name": "stderr",
     "output_type": "stream",
     "text": [
      "2023-11-05 03:38:28.213564: I tensorflow/core/common_runtime/executor.cc:1197] [/device:CPU:0] (DEBUG INFO) Executor start aborting (this does not indicate an error and you can ignore this message): INVALID_ARGUMENT: You must feed a value for placeholder tensor 'inputs' with dtype float and shape [?,5,128]\n",
      "\t [[{{node inputs}}]]\n",
      "2023-11-05 03:38:28.724315: I tensorflow/core/common_runtime/executor.cc:1197] [/device:CPU:0] (DEBUG INFO) Executor start aborting (this does not indicate an error and you can ignore this message): INVALID_ARGUMENT: You must feed a value for placeholder tensor 'inputs' with dtype float and shape [?,5,128]\n",
      "\t [[{{node inputs}}]]\n",
      "WARNING:absl:Found untraced functions such as _jit_compiled_convolution_op, _jit_compiled_convolution_op, _jit_compiled_convolution_op, _jit_compiled_convolution_op, _update_step_xla while saving (showing 5 of 5). These functions will not be directly callable after loading.\n"
     ]
    },
    {
     "name": "stdout",
     "output_type": "stream",
     "text": [
      "INFO:tensorflow:Assets written to: models/Task2/physical_activity_epochs:50_batch:10_gyro:False_window:5_overlap:4.keras_0.910041868686676/assets\n"
     ]
    },
    {
     "name": "stderr",
     "output_type": "stream",
     "text": [
      "INFO:tensorflow:Assets written to: models/Task2/physical_activity_epochs:50_batch:10_gyro:False_window:5_overlap:4.keras_0.910041868686676/assets\n"
     ]
    }
   ],
   "source": [
    "\n",
    "train_data, dev_data, test_data, train_labels, dev_labels, test_labels = train_dev_test_split(sequences, labels_encoded, dev_size=0.1, test_size=0.1) #10% dev, 10% test\n",
    "\n",
    "\n",
    "# train and save model (CHOOSE BETWEEN CNN AND LSTM)\n",
    "model = train_model_CNN(train_data, train_labels, RESPIRATORY_ACTIVITIES, batch_size=BATCH_SIZE, epochs=EPOCHS, validation_data=(dev_data, dev_labels)) #batch_size, epochs\n",
    "\n",
    "\n",
    "# Evaluate the model on the test set\n",
    "test_loss, test_accuracy = model.evaluate(test_data, test_labels)\n",
    "print(f\"Test Loss: {test_loss}, Test Accuracy: {test_accuracy}\")\n",
    "\n",
    "# Save the trained model\n",
    "model.save(f\"models/Task2/{MODEL_NAME}_{test_accuracy}\")"
   ]
  }
 ],
 "metadata": {
  "kernelspec": {
   "display_name": "pdiot",
   "language": "python",
   "name": "python3"
  },
  "language_info": {
   "codemirror_mode": {
    "name": "ipython",
    "version": 3
   },
   "file_extension": ".py",
   "mimetype": "text/x-python",
   "name": "python",
   "nbconvert_exporter": "python",
   "pygments_lexer": "ipython3",
   "version": "3.11.4"
  }
 },
 "nbformat": 4,
 "nbformat_minor": 2
}
