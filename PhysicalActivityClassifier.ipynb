{
 "cells": [
  {
   "cell_type": "code",
   "execution_count": 133,
   "metadata": {},
   "outputs": [],
   "source": [
    "GYRO = False\n",
    "SEQUENCE_LENGTH = 4\n",
    "SEQUENCE_OVERLAP = 3\n",
    "BATCH_SIZE = 10\n",
    "EPOCHS = 50\n",
    "MODEL_NAME = f\"physical_activity_epochs:{EPOCHS}_batch:{BATCH_SIZE}_gyro:{GYRO}_window:{SEQUENCE_LENGTH}_overlap:{SEQUENCE_OVERLAP}.keras\""
   ]
  },
  {
   "cell_type": "markdown",
   "metadata": {},
   "source": [
    "# EDIT THE VALUES IN THE CELL ABOVE THEN PRESS RUN ALL"
   ]
  },
  {
   "cell_type": "code",
   "execution_count": 134,
   "metadata": {},
   "outputs": [],
   "source": [
    "import file_tagger\n",
    "import sequence_genrator\n",
    "import tensorflow as tf\n",
    "import numpy as np\n",
    "from keras import layers, Sequential, models\n",
    "from sklearn.model_selection import train_test_split\n"
   ]
  },
  {
   "cell_type": "code",
   "execution_count": 135,
   "metadata": {},
   "outputs": [],
   "source": [
    "DATA_DIRECTORY = \"./all_respeck\"\n",
    "RESPIRATORY_ACTIVITIES = {\n",
    "    \"sitting&coughing\",\n",
    "    \"sitting&hyperventilating\",\n",
    "    \"standing&coughing\",\n",
    "    \"standing&hyperventilating\",\n",
    "    \"lying_down_back&coughing\",\n",
    "    \"lying_down_back&hyperventilating\",\n",
    "    \"lying_down_right&coughing\",\n",
    "    \"lying_down_right&hyperventilating\",\n",
    "    \"lying_down_left&coughing\",\n",
    "    \"lying_down_left&hyperventilating\",\n",
    "    \"lying_down_stomach&coughing\",\n",
    "    \"lying_down_stomach&hyperventilating\"\n",
    "}"
   ]
  },
  {
   "cell_type": "code",
   "execution_count": 136,
   "metadata": {},
   "outputs": [],
   "source": [
    "def generate_training_data(directory, sequence_length, overlap, gyro = GYRO): # if gyro is false, only accelerometer data is used\n",
    "\n",
    "    tagged_data = []\n",
    "\n",
    "    # group each csv file into their respective areas\n",
    "    csv_dictionary = file_tagger.tag_directory(directory)\n",
    "\n",
    "    # iterates through each activity\n",
    "    for key in RESPIRATORY_ACTIVITIES:\n",
    "        # iterates through each csv file for the activity \n",
    "        for csv_file in csv_dictionary[key]:\n",
    "            if gyro:\n",
    "                sequences = sequence_genrator.generate_sequences_from_file_with_gyroscope(directory + \"/\" + csv_file, sequence_length, overlap)\n",
    "            else:\n",
    "                sequences = sequence_genrator.generate_sequences_from_file_without_gyroscope(directory + \"/\" + csv_file, sequence_length, overlap)\n",
    "\n",
    "            # iterate through each generated sequence\n",
    "            for sequence in sequences:\n",
    "                tagged_data.append((key, sequence))\n",
    "\n",
    "    print (\"there are \" + str(len(tagged_data)) + \" tagged sequences in the dataset\")\n",
    "    return tagged_data"
   ]
  },
  {
   "cell_type": "code",
   "execution_count": 137,
   "metadata": {},
   "outputs": [],
   "source": [
    "# split data into training, dev, and test sets\n",
    "def train_dev_test_split(data, labels, dev_size, test_size, random_state=42):\n",
    "    # Split the data into training and temporary (dev + test) sets\n",
    "    train_data, temp_data, train_labels, temp_labels = train_test_split(data, labels, test_size=(dev_size + test_size), random_state=random_state)\n",
    "    \n",
    "    # Split the temporary data into dev and test sets\n",
    "    dev_data, test_data, dev_labels, test_labels = train_test_split(temp_data, temp_labels, \n",
    "                                                                 test_size=(test_size / (dev_size + test_size)), random_state=random_state)\n",
    "    \n",
    "    return train_data, dev_data, test_data, train_labels, dev_labels, test_labels"
   ]
  },
  {
   "cell_type": "code",
   "execution_count": 138,
   "metadata": {},
   "outputs": [
    {
     "name": "stdout",
     "output_type": "stream",
     "text": [
      "there are 14892 tagged sequences in the dataset\n"
     ]
    }
   ],
   "source": [
    "tagged_sequences = generate_training_data(DATA_DIRECTORY, SEQUENCE_LENGTH, SEQUENCE_OVERLAP)\n",
    "\n",
    "# Combine all sequences and labels\n",
    "sequences = [sequence for _, sequence in tagged_sequences]\n",
    "labels = [label for label, _ in tagged_sequences]\n",
    "\n",
    "\n",
    "# encode labels to numbers\n",
    "sequences = np.array(sequences, dtype=np.float32)\n",
    "label_to_index = {label: idx for idx, label in enumerate(RESPIRATORY_ACTIVITIES)}\n",
    "labels_encoded = [label_to_index[label] for label in labels]\n",
    "labels_encoded = np.array(labels_encoded)"
   ]
  },
  {
   "cell_type": "code",
   "execution_count": 139,
   "metadata": {},
   "outputs": [],
   "source": [
    "#CNN MODEL\n",
    "def train_model_CNN(input_data, labels_encoded, unique_labels, epochs, batch_size, validation_data):\n",
    "    if GYRO:\n",
    "        width = 6\n",
    "    else:\n",
    "        width = 3\n",
    "    # Define the CNN model for your specific input shape\n",
    "    model = Sequential([\n",
    "        layers.Conv1D(32, 3, activation='relu', input_shape=(SEQUENCE_LENGTH*25, width)),\n",
    "        layers.MaxPooling1D(2),\n",
    "        layers.Conv1D(64, 3, activation='relu'),\n",
    "        layers.MaxPooling1D(2),\n",
    "        # layers.Conv1D(64, 3, activation='relu'),\n",
    "        # layers.MaxPooling1D(2),\n",
    "        layers.Conv1D(128, 3, activation='relu'),\n",
    "        layers.MaxPooling1D(2),\n",
    "        layers.Dropout(0.5),\n",
    "        layers.Flatten(),\n",
    "        layers.Dense(64, activation='relu'),\n",
    "        layers.Dense(len(unique_labels), activation='softmax')\n",
    "    ])\n",
    "\n",
    "    model.compile(optimizer='adam', loss='sparse_categorical_crossentropy', metrics=['accuracy'])\n",
    "\n",
    "    # Train the CNN model\n",
    "    model.fit(input_data, labels_encoded, epochs=epochs, batch_size=batch_size, validation_data=validation_data)\n",
    "\n",
    "    return model"
   ]
  },
  {
   "cell_type": "code",
   "execution_count": 140,
   "metadata": {},
   "outputs": [
    {
     "name": "stdout",
     "output_type": "stream",
     "text": [
      "Epoch 1/50\n",
      "1192/1192 [==============================] - 6s 4ms/step - loss: 1.0801 - accuracy: 0.4335 - val_loss: 0.9679 - val_accuracy: 0.4607\n",
      "Epoch 2/50\n",
      "1192/1192 [==============================] - 5s 4ms/step - loss: 0.8867 - accuracy: 0.5620 - val_loss: 0.7143 - val_accuracy: 0.6776\n",
      "Epoch 3/50\n",
      "1192/1192 [==============================] - 5s 4ms/step - loss: 0.6379 - accuracy: 0.7342 - val_loss: 0.8096 - val_accuracy: 0.6676\n",
      "Epoch 4/50\n",
      "1192/1192 [==============================] - 5s 4ms/step - loss: 0.5566 - accuracy: 0.7653 - val_loss: 0.5092 - val_accuracy: 0.7790\n",
      "Epoch 5/50\n",
      "1192/1192 [==============================] - 5s 4ms/step - loss: 0.5193 - accuracy: 0.7810 - val_loss: 0.4666 - val_accuracy: 0.7972\n",
      "Epoch 6/50\n",
      "1192/1192 [==============================] - 5s 4ms/step - loss: 0.4886 - accuracy: 0.7927 - val_loss: 0.4481 - val_accuracy: 0.8052\n",
      "Epoch 7/50\n",
      "1192/1192 [==============================] - 5s 4ms/step - loss: 0.4644 - accuracy: 0.8042 - val_loss: 0.4683 - val_accuracy: 0.7858\n",
      "Epoch 8/50\n",
      "1192/1192 [==============================] - 5s 4ms/step - loss: 0.4621 - accuracy: 0.8018 - val_loss: 0.4438 - val_accuracy: 0.7979\n",
      "Epoch 9/50\n",
      "1192/1192 [==============================] - 5s 4ms/step - loss: 0.4330 - accuracy: 0.8152 - val_loss: 0.4152 - val_accuracy: 0.8207\n",
      "Epoch 10/50\n",
      "1192/1192 [==============================] - 5s 4ms/step - loss: 0.4202 - accuracy: 0.8190 - val_loss: 0.4027 - val_accuracy: 0.8328\n",
      "Epoch 11/50\n",
      "1192/1192 [==============================] - 5s 4ms/step - loss: 0.4175 - accuracy: 0.8180 - val_loss: 0.4090 - val_accuracy: 0.8267\n",
      "Epoch 12/50\n",
      "1192/1192 [==============================] - 5s 4ms/step - loss: 0.4127 - accuracy: 0.8253 - val_loss: 0.3744 - val_accuracy: 0.8254\n",
      "Epoch 13/50\n",
      "1192/1192 [==============================] - 5s 4ms/step - loss: 0.3901 - accuracy: 0.8347 - val_loss: 0.3916 - val_accuracy: 0.8348\n",
      "Epoch 14/50\n",
      "1192/1192 [==============================] - 5s 4ms/step - loss: 0.3866 - accuracy: 0.8403 - val_loss: 0.3611 - val_accuracy: 0.8583\n",
      "Epoch 15/50\n",
      "1192/1192 [==============================] - 5s 4ms/step - loss: 0.3837 - accuracy: 0.8391 - val_loss: 0.3809 - val_accuracy: 0.8408\n",
      "Epoch 16/50\n",
      "1192/1192 [==============================] - 5s 4ms/step - loss: 0.3625 - accuracy: 0.8447 - val_loss: 0.3475 - val_accuracy: 0.8576\n",
      "Epoch 17/50\n",
      "1192/1192 [==============================] - 5s 4ms/step - loss: 0.3681 - accuracy: 0.8410 - val_loss: 0.3507 - val_accuracy: 0.8536\n",
      "Epoch 18/50\n",
      "1192/1192 [==============================] - 5s 4ms/step - loss: 0.3521 - accuracy: 0.8479 - val_loss: 0.3360 - val_accuracy: 0.8563\n",
      "Epoch 19/50\n",
      "1192/1192 [==============================] - 5s 4ms/step - loss: 0.3642 - accuracy: 0.8466 - val_loss: 0.3647 - val_accuracy: 0.8469\n",
      "Epoch 20/50\n",
      "1192/1192 [==============================] - 5s 4ms/step - loss: 0.3426 - accuracy: 0.8518 - val_loss: 0.3384 - val_accuracy: 0.8489\n",
      "Epoch 21/50\n",
      "1192/1192 [==============================] - 5s 4ms/step - loss: 0.3390 - accuracy: 0.8592 - val_loss: 0.3073 - val_accuracy: 0.8664\n",
      "Epoch 22/50\n",
      "1192/1192 [==============================] - 5s 4ms/step - loss: 0.3250 - accuracy: 0.8606 - val_loss: 0.3406 - val_accuracy: 0.8637\n",
      "Epoch 23/50\n",
      "1192/1192 [==============================] - 5s 4ms/step - loss: 0.3276 - accuracy: 0.8576 - val_loss: 0.3126 - val_accuracy: 0.8697\n",
      "Epoch 24/50\n",
      "1192/1192 [==============================] - 5s 4ms/step - loss: 0.3217 - accuracy: 0.8658 - val_loss: 0.2815 - val_accuracy: 0.8811\n",
      "Epoch 25/50\n",
      "1192/1192 [==============================] - 5s 4ms/step - loss: 0.3170 - accuracy: 0.8667 - val_loss: 0.3086 - val_accuracy: 0.8650\n",
      "Epoch 26/50\n",
      "1192/1192 [==============================] - 5s 4ms/step - loss: 0.2970 - accuracy: 0.8728 - val_loss: 0.3345 - val_accuracy: 0.8603\n",
      "Epoch 27/50\n",
      "1192/1192 [==============================] - 5s 4ms/step - loss: 0.2995 - accuracy: 0.8744 - val_loss: 0.3434 - val_accuracy: 0.8610\n",
      "Epoch 28/50\n",
      "1192/1192 [==============================] - 5s 4ms/step - loss: 0.2963 - accuracy: 0.8795 - val_loss: 0.2984 - val_accuracy: 0.8670\n",
      "Epoch 29/50\n",
      "1192/1192 [==============================] - 5s 4ms/step - loss: 0.2939 - accuracy: 0.8801 - val_loss: 0.2883 - val_accuracy: 0.8858\n",
      "Epoch 30/50\n",
      "1192/1192 [==============================] - 5s 4ms/step - loss: 0.2976 - accuracy: 0.8784 - val_loss: 0.2683 - val_accuracy: 0.8892\n",
      "Epoch 31/50\n",
      "1192/1192 [==============================] - 5s 4ms/step - loss: 0.2913 - accuracy: 0.8796 - val_loss: 0.3284 - val_accuracy: 0.8576\n",
      "Epoch 32/50\n",
      "1192/1192 [==============================] - 5s 4ms/step - loss: 0.2765 - accuracy: 0.8810 - val_loss: 0.2918 - val_accuracy: 0.8764\n",
      "Epoch 33/50\n",
      "1192/1192 [==============================] - 5s 4ms/step - loss: 0.2856 - accuracy: 0.8838 - val_loss: 0.3057 - val_accuracy: 0.8798\n",
      "Epoch 34/50\n",
      "1192/1192 [==============================] - 5s 4ms/step - loss: 0.2651 - accuracy: 0.8894 - val_loss: 0.2893 - val_accuracy: 0.8771\n",
      "Epoch 35/50\n",
      "1192/1192 [==============================] - 5s 4ms/step - loss: 0.2652 - accuracy: 0.8911 - val_loss: 0.2907 - val_accuracy: 0.8845\n",
      "Epoch 36/50\n",
      "1192/1192 [==============================] - 5s 4ms/step - loss: 0.2563 - accuracy: 0.8942 - val_loss: 0.3489 - val_accuracy: 0.8549\n",
      "Epoch 37/50\n",
      "1192/1192 [==============================] - 5s 4ms/step - loss: 0.2615 - accuracy: 0.8935 - val_loss: 0.2595 - val_accuracy: 0.8986\n",
      "Epoch 38/50\n",
      "1192/1192 [==============================] - 5s 4ms/step - loss: 0.2447 - accuracy: 0.9002 - val_loss: 0.2699 - val_accuracy: 0.8939\n",
      "Epoch 39/50\n",
      "1192/1192 [==============================] - 5s 4ms/step - loss: 0.2536 - accuracy: 0.8962 - val_loss: 0.2474 - val_accuracy: 0.8959\n",
      "Epoch 40/50\n",
      "1192/1192 [==============================] - 5s 4ms/step - loss: 0.2451 - accuracy: 0.8992 - val_loss: 0.2415 - val_accuracy: 0.8993\n",
      "Epoch 41/50\n",
      "1192/1192 [==============================] - 5s 4ms/step - loss: 0.2453 - accuracy: 0.9021 - val_loss: 0.2383 - val_accuracy: 0.9026\n",
      "Epoch 42/50\n",
      "1192/1192 [==============================] - 5s 4ms/step - loss: 0.2170 - accuracy: 0.9109 - val_loss: 0.2135 - val_accuracy: 0.9127\n",
      "Epoch 43/50\n",
      "1192/1192 [==============================] - 5s 4ms/step - loss: 0.2312 - accuracy: 0.9090 - val_loss: 0.2486 - val_accuracy: 0.9026\n",
      "Epoch 44/50\n",
      "1192/1192 [==============================] - 5s 4ms/step - loss: 0.2316 - accuracy: 0.9060 - val_loss: 0.2387 - val_accuracy: 0.9019\n",
      "Epoch 45/50\n",
      "1192/1192 [==============================] - 5s 4ms/step - loss: 0.2199 - accuracy: 0.9080 - val_loss: 0.2331 - val_accuracy: 0.9073\n",
      "Epoch 46/50\n",
      "1192/1192 [==============================] - 5s 4ms/step - loss: 0.2272 - accuracy: 0.9125 - val_loss: 0.2235 - val_accuracy: 0.9073\n",
      "Epoch 47/50\n",
      "1192/1192 [==============================] - 5s 4ms/step - loss: 0.2125 - accuracy: 0.9142 - val_loss: 0.2434 - val_accuracy: 0.9120\n",
      "Epoch 48/50\n",
      "1192/1192 [==============================] - 5s 4ms/step - loss: 0.2231 - accuracy: 0.9092 - val_loss: 0.3037 - val_accuracy: 0.8805\n",
      "Epoch 49/50\n",
      "1192/1192 [==============================] - 5s 4ms/step - loss: 0.2131 - accuracy: 0.9160 - val_loss: 0.2232 - val_accuracy: 0.9120\n",
      "Epoch 50/50\n",
      "1192/1192 [==============================] - 5s 4ms/step - loss: 0.2010 - accuracy: 0.9198 - val_loss: 0.2039 - val_accuracy: 0.9174\n",
      "47/47 [==============================] - 0s 2ms/step - loss: 0.2101 - accuracy: 0.9148\n",
      "Test Loss: 0.2100953608751297, Test Accuracy: 0.9147651195526123\n"
     ]
    },
    {
     "name": "stderr",
     "output_type": "stream",
     "text": [
      "2023-11-03 19:42:45.282606: I tensorflow/core/common_runtime/executor.cc:1197] [/device:CPU:0] (DEBUG INFO) Executor start aborting (this does not indicate an error and you can ignore this message): INVALID_ARGUMENT: You must feed a value for placeholder tensor 'inputs' with dtype float and shape [?,10,128]\n",
      "\t [[{{node inputs}}]]\n",
      "2023-11-03 19:42:45.590989: I tensorflow/core/common_runtime/executor.cc:1197] [/device:CPU:0] (DEBUG INFO) Executor start aborting (this does not indicate an error and you can ignore this message): INVALID_ARGUMENT: You must feed a value for placeholder tensor 'inputs' with dtype float and shape [?,10,128]\n",
      "\t [[{{node inputs}}]]\n",
      "WARNING:absl:Found untraced functions such as _jit_compiled_convolution_op, _jit_compiled_convolution_op, _jit_compiled_convolution_op, _update_step_xla while saving (showing 4 of 4). These functions will not be directly callable after loading.\n"
     ]
    },
    {
     "name": "stdout",
     "output_type": "stream",
     "text": [
      "INFO:tensorflow:Assets written to: models/Task2/physical_activity_epochs:50_batch:10_gyro:False_window:4_overlap:3.keras_0.9147651195526123/assets\n"
     ]
    },
    {
     "name": "stderr",
     "output_type": "stream",
     "text": [
      "INFO:tensorflow:Assets written to: models/Task2/physical_activity_epochs:50_batch:10_gyro:False_window:4_overlap:3.keras_0.9147651195526123/assets\n"
     ]
    }
   ],
   "source": [
    "\n",
    "train_data, dev_data, test_data, train_labels, dev_labels, test_labels = train_dev_test_split(sequences, labels_encoded, dev_size=0.1, test_size=0.1) #10% dev, 10% test\n",
    "\n",
    "# train and save model (CHOOSE BETWEEN CNN AND LSTM)\n",
    "model = train_model_CNN(train_data, train_labels, RESPIRATORY_ACTIVITIES, batch_size=BATCH_SIZE, epochs=EPOCHS, validation_data=(dev_data, dev_labels)) #batch_size, epochs\n",
    "\n",
    "# Evaluate the model on the test set\n",
    "test_loss, test_accuracy = model.evaluate(test_data, test_labels)\n",
    "print(f\"Test Loss: {test_loss}, Test Accuracy: {test_accuracy}\")\n",
    "\n",
    "# Save the trained model\n",
    "model.save(f\"models/Task2/{MODEL_NAME}_{test_accuracy}\")"
   ]
  }
 ],
 "metadata": {
  "kernelspec": {
   "display_name": "pdiot",
   "language": "python",
   "name": "python3"
  },
  "language_info": {
   "codemirror_mode": {
    "name": "ipython",
    "version": 3
   },
   "file_extension": ".py",
   "mimetype": "text/x-python",
   "name": "python",
   "nbconvert_exporter": "python",
   "pygments_lexer": "ipython3",
   "version": "3.11.4"
  }
 },
 "nbformat": 4,
 "nbformat_minor": 2
}
