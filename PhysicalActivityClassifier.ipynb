{
 "cells": [
  {
   "cell_type": "code",
   "execution_count": 162,
   "metadata": {},
   "outputs": [],
   "source": [
    "\n",
    "GYRO = False\n",
    "SEQUENCE_LENGTH = 3\n",
    "SEQUENCE_OVERLAP = 2\n",
    "MODEL_NAME = \"physical_activity_without_gyro.keras\"\n",
    "BATCH_SIZE = 5\n",
    "EPOCHS = 40"
   ]
  },
  {
   "cell_type": "markdown",
   "metadata": {},
   "source": [
    "# EDIT THE VALUES IN THE CELL ABOVE THEN PRESS RUN ALL"
   ]
  },
  {
   "cell_type": "code",
   "execution_count": 163,
   "metadata": {},
   "outputs": [],
   "source": [
    "import file_tagger\n",
    "import sequence_genrator\n",
    "import tensorflow as tf\n",
    "import numpy as np\n",
    "from keras import layers, Sequential, models\n",
    "from sklearn.model_selection import train_test_split\n"
   ]
  },
  {
   "cell_type": "code",
   "execution_count": 164,
   "metadata": {},
   "outputs": [],
   "source": [
    "DATA_DIRECTORY = \"./all_respeck\"\n",
    "PHYSICAL_ACTIVITIES = {\n",
    "    \"ascending_stairs&normal_breathing\",\n",
    "    \"shuffle_walking&normal_breathing\",\n",
    "    \"walking&normal_breathing\",\n",
    "    \"descending_stairs&normal_breathing\",\n",
    "    \"misc_movements&normal_breathing\",\n",
    "    \"running&normal_breathing\",\n",
    "}"
   ]
  },
  {
   "cell_type": "code",
   "execution_count": 165,
   "metadata": {},
   "outputs": [],
   "source": [
    "def generate_training_data(directory, sequence_length, overlap, gyro = GYRO): # if gyro is false, only accelerometer data is used\n",
    "\n",
    "    tagged_data = []\n",
    "\n",
    "    # group each csv file into their respective areas\n",
    "    csv_dictionary = file_tagger.tag_directory(directory)\n",
    "\n",
    "    # iterates through each activity\n",
    "    for key in PHYSICAL_ACTIVITIES:\n",
    "\n",
    "        # iterates through each csv file for the activity \n",
    "        for csv_file in csv_dictionary[key]:\n",
    "            if gyro:\n",
    "                sequences = sequence_genrator.generate_sequences_from_file_with_gyroscope(directory + \"/\" + csv_file, sequence_length, overlap)\n",
    "            else:\n",
    "                sequences = sequence_genrator.generate_sequences_from_file_without_gyroscope(directory + \"/\" + csv_file, sequence_length, overlap)\n",
    "\n",
    "            # iterate through each generated sequence\n",
    "            for sequence in sequences:\n",
    "                tagged_data.append((key, sequence))\n",
    "\n",
    "    print (\"there are \" + str(len(tagged_data)) + \" tagged sequences in the dataset\")\n",
    "    return tagged_data"
   ]
  },
  {
   "cell_type": "code",
   "execution_count": 166,
   "metadata": {},
   "outputs": [],
   "source": [
    "# split data into training, dev, and test sets\n",
    "def train_dev_test_split(data, labels, dev_size, test_size, random_state=42):\n",
    "    # Split the data into training and temporary (dev + test) sets\n",
    "    train_data, temp_data, train_labels, temp_labels = train_test_split(data, labels, test_size=(dev_size + test_size), random_state=random_state)\n",
    "    \n",
    "    # Split the temporary data into dev and test sets\n",
    "    dev_data, test_data, dev_labels, test_labels = train_test_split(temp_data, temp_labels, \n",
    "                                                                 test_size=(test_size / (dev_size + test_size)), random_state=random_state)\n",
    "    \n",
    "    return train_data, dev_data, test_data, train_labels, dev_labels, test_labels"
   ]
  },
  {
   "cell_type": "code",
   "execution_count": 167,
   "metadata": {},
   "outputs": [
    {
     "name": "stdout",
     "output_type": "stream",
     "text": [
      "there are 7715 tagged sequences in the dataset\n"
     ]
    }
   ],
   "source": [
    "tagged_sequences = generate_training_data(DATA_DIRECTORY, SEQUENCE_LENGTH, SEQUENCE_OVERLAP)\n",
    "\n",
    "# Combine all sequences and labels\n",
    "sequences = [sequence for _, sequence in tagged_sequences]\n",
    "labels = [label for label, _ in tagged_sequences]\n",
    "\n",
    "\n",
    "# encode labels to numbers\n",
    "sequences = np.array(sequences, dtype=np.float32)\n",
    "label_to_index = {label: idx for idx, label in enumerate(PHYSICAL_ACTIVITIES)}\n",
    "labels_encoded = [label_to_index[label] for label in labels]\n",
    "labels_encoded = np.array(labels_encoded)"
   ]
  },
  {
   "cell_type": "code",
   "execution_count": 168,
   "metadata": {},
   "outputs": [],
   "source": [
    "#CNN MODEL\n",
    "def train_model_CNN(input_data, labels_encoded, unique_labels, epochs, batch_size, validation_data):\n",
    "    if GYRO:\n",
    "        width = 6\n",
    "    else:\n",
    "        width = 3\n",
    "    # Define the CNN model for your specific input shape\n",
    "    model = Sequential([\n",
    "        layers.Conv1D(32, 3, activation='relu', input_shape=(SEQUENCE_LENGTH*25, width)),\n",
    "        layers.MaxPooling1D(2),\n",
    "        layers.Conv1D(64, 3, activation='relu'),\n",
    "        layers.MaxPooling1D(2),\n",
    "        layers.Flatten(),\n",
    "        layers.Dense(64, activation='relu'),\n",
    "        layers.Dense(len(unique_labels), activation='softmax')\n",
    "    ])\n",
    "\n",
    "    model.compile(optimizer='adam', loss='sparse_categorical_crossentropy', metrics=['accuracy'])\n",
    "\n",
    "    # Train the CNN model\n",
    "    model.fit(input_data, labels_encoded, epochs=epochs, batch_size=batch_size, validation_data=validation_data)\n",
    "\n",
    "    return model"
   ]
  },
  {
   "cell_type": "code",
   "execution_count": 169,
   "metadata": {},
   "outputs": [
    {
     "name": "stdout",
     "output_type": "stream",
     "text": [
      "Epoch 1/40\n",
      "618/618 [==============================] - 2s 2ms/step - loss: 1.0506 - accuracy: 0.5865 - val_loss: 0.8987 - val_accuracy: 0.6589\n",
      "Epoch 2/40\n",
      "618/618 [==============================] - 1s 2ms/step - loss: 0.6096 - accuracy: 0.7819 - val_loss: 0.5233 - val_accuracy: 0.8171\n",
      "Epoch 3/40\n",
      "618/618 [==============================] - 1s 2ms/step - loss: 0.4311 - accuracy: 0.8464 - val_loss: 0.4759 - val_accuracy: 0.8288\n",
      "Epoch 4/40\n",
      "618/618 [==============================] - 1s 2ms/step - loss: 0.3504 - accuracy: 0.8735 - val_loss: 0.3565 - val_accuracy: 0.8703\n",
      "Epoch 5/40\n",
      "618/618 [==============================] - 1s 2ms/step - loss: 0.2785 - accuracy: 0.9005 - val_loss: 0.3295 - val_accuracy: 0.8923\n",
      "Epoch 6/40\n",
      "618/618 [==============================] - 1s 2ms/step - loss: 0.2256 - accuracy: 0.9182 - val_loss: 0.3988 - val_accuracy: 0.8586\n",
      "Epoch 7/40\n",
      "618/618 [==============================] - 1s 2ms/step - loss: 0.1906 - accuracy: 0.9331 - val_loss: 0.1930 - val_accuracy: 0.9403\n",
      "Epoch 8/40\n",
      "618/618 [==============================] - 1s 2ms/step - loss: 0.1491 - accuracy: 0.9485 - val_loss: 0.2645 - val_accuracy: 0.9079\n",
      "Epoch 9/40\n",
      "618/618 [==============================] - 1s 2ms/step - loss: 0.1476 - accuracy: 0.9473 - val_loss: 0.2302 - val_accuracy: 0.9196\n",
      "Epoch 10/40\n",
      "618/618 [==============================] - 1s 2ms/step - loss: 0.1072 - accuracy: 0.9629 - val_loss: 0.2474 - val_accuracy: 0.9261\n",
      "Epoch 11/40\n",
      "618/618 [==============================] - 1s 2ms/step - loss: 0.1137 - accuracy: 0.9606 - val_loss: 0.1903 - val_accuracy: 0.9364\n",
      "Epoch 12/40\n",
      "618/618 [==============================] - 1s 2ms/step - loss: 0.0821 - accuracy: 0.9710 - val_loss: 0.2062 - val_accuracy: 0.9364\n",
      "Epoch 13/40\n",
      "618/618 [==============================] - 1s 2ms/step - loss: 0.0873 - accuracy: 0.9692 - val_loss: 0.1942 - val_accuracy: 0.9390\n",
      "Epoch 14/40\n",
      "618/618 [==============================] - 1s 2ms/step - loss: 0.0710 - accuracy: 0.9767 - val_loss: 0.1677 - val_accuracy: 0.9455\n",
      "Epoch 15/40\n",
      "618/618 [==============================] - 1s 2ms/step - loss: 0.0718 - accuracy: 0.9729 - val_loss: 0.1907 - val_accuracy: 0.9429\n",
      "Epoch 16/40\n",
      "618/618 [==============================] - 1s 2ms/step - loss: 0.0556 - accuracy: 0.9835 - val_loss: 0.1723 - val_accuracy: 0.9455\n",
      "Epoch 17/40\n",
      "618/618 [==============================] - 2s 2ms/step - loss: 0.0568 - accuracy: 0.9828 - val_loss: 0.2419 - val_accuracy: 0.9364\n",
      "Epoch 18/40\n",
      "618/618 [==============================] - 1s 2ms/step - loss: 0.0460 - accuracy: 0.9853 - val_loss: 0.2168 - val_accuracy: 0.9326\n",
      "Epoch 19/40\n",
      "618/618 [==============================] - 1s 2ms/step - loss: 0.0542 - accuracy: 0.9817 - val_loss: 0.2050 - val_accuracy: 0.9442\n",
      "Epoch 20/40\n",
      "618/618 [==============================] - 1s 2ms/step - loss: 0.0421 - accuracy: 0.9864 - val_loss: 0.2489 - val_accuracy: 0.9339\n",
      "Epoch 21/40\n",
      "618/618 [==============================] - 1s 2ms/step - loss: 0.0488 - accuracy: 0.9844 - val_loss: 0.3345 - val_accuracy: 0.9274\n",
      "Epoch 22/40\n",
      "618/618 [==============================] - 1s 2ms/step - loss: 0.0329 - accuracy: 0.9906 - val_loss: 0.2511 - val_accuracy: 0.9326\n",
      "Epoch 23/40\n",
      "618/618 [==============================] - 1s 2ms/step - loss: 0.0451 - accuracy: 0.9846 - val_loss: 0.1675 - val_accuracy: 0.9546\n",
      "Epoch 24/40\n",
      "618/618 [==============================] - 1s 2ms/step - loss: 0.0406 - accuracy: 0.9867 - val_loss: 0.1957 - val_accuracy: 0.9442\n",
      "Epoch 25/40\n",
      "618/618 [==============================] - 1s 2ms/step - loss: 0.0350 - accuracy: 0.9878 - val_loss: 0.2377 - val_accuracy: 0.9481\n",
      "Epoch 26/40\n",
      "618/618 [==============================] - 1s 2ms/step - loss: 0.0388 - accuracy: 0.9874 - val_loss: 0.2640 - val_accuracy: 0.9494\n",
      "Epoch 27/40\n",
      "618/618 [==============================] - 1s 2ms/step - loss: 0.0281 - accuracy: 0.9914 - val_loss: 0.2791 - val_accuracy: 0.9429\n",
      "Epoch 28/40\n",
      "618/618 [==============================] - 1s 2ms/step - loss: 0.0392 - accuracy: 0.9861 - val_loss: 0.2772 - val_accuracy: 0.9442\n",
      "Epoch 29/40\n",
      "618/618 [==============================] - 1s 2ms/step - loss: 0.0206 - accuracy: 0.9940 - val_loss: 0.1598 - val_accuracy: 0.9546\n",
      "Epoch 30/40\n",
      "618/618 [==============================] - 1s 2ms/step - loss: 0.0212 - accuracy: 0.9919 - val_loss: 0.1864 - val_accuracy: 0.9546\n",
      "Epoch 31/40\n",
      "618/618 [==============================] - 1s 2ms/step - loss: 0.0333 - accuracy: 0.9890 - val_loss: 0.3537 - val_accuracy: 0.9235\n",
      "Epoch 32/40\n",
      "618/618 [==============================] - 1s 2ms/step - loss: 0.0562 - accuracy: 0.9840 - val_loss: 0.1812 - val_accuracy: 0.9455\n",
      "Epoch 33/40\n",
      "618/618 [==============================] - 1s 2ms/step - loss: 0.0168 - accuracy: 0.9937 - val_loss: 0.2403 - val_accuracy: 0.9429\n",
      "Epoch 34/40\n",
      "618/618 [==============================] - 1s 2ms/step - loss: 0.0107 - accuracy: 0.9968 - val_loss: 0.1588 - val_accuracy: 0.9611\n",
      "Epoch 35/40\n",
      "618/618 [==============================] - 1s 2ms/step - loss: 0.0404 - accuracy: 0.9864 - val_loss: 0.2099 - val_accuracy: 0.9429\n",
      "Epoch 36/40\n",
      "618/618 [==============================] - 1s 2ms/step - loss: 0.0259 - accuracy: 0.9908 - val_loss: 0.1616 - val_accuracy: 0.9520\n",
      "Epoch 37/40\n",
      "618/618 [==============================] - 1s 2ms/step - loss: 0.0134 - accuracy: 0.9955 - val_loss: 0.1945 - val_accuracy: 0.9559\n",
      "Epoch 38/40\n",
      "618/618 [==============================] - 1s 2ms/step - loss: 0.0346 - accuracy: 0.9890 - val_loss: 0.1648 - val_accuracy: 0.9611\n",
      "Epoch 39/40\n",
      "618/618 [==============================] - 1s 2ms/step - loss: 0.0123 - accuracy: 0.9942 - val_loss: 0.2290 - val_accuracy: 0.9572\n",
      "Epoch 40/40\n",
      "618/618 [==============================] - 1s 2ms/step - loss: 0.0232 - accuracy: 0.9909 - val_loss: 0.3987 - val_accuracy: 0.9222\n",
      "25/25 [==============================] - 0s 1ms/step - loss: 0.4504 - accuracy: 0.9197\n",
      "Test Loss: 0.4503900706768036, Test Accuracy: 0.9196891188621521\n"
     ]
    }
   ],
   "source": [
    "\n",
    "train_data, dev_data, test_data, train_labels, dev_labels, test_labels = train_dev_test_split(sequences, labels_encoded, dev_size=0.1, test_size=0.1) #10% dev, 10% test\n",
    "\n",
    "\n",
    "# train and save model (CHOOSE BETWEEN CNN AND LSTM)\n",
    "model = train_model_CNN(train_data, train_labels, PHYSICAL_ACTIVITIES, batch_size=BATCH_SIZE, epochs=EPOCHS, validation_data=(dev_data, dev_labels)) #batch_size, epochs\n",
    "\n",
    "# Save the trained model\n",
    "model.save(\"models/\" + MODEL_NAME)\n",
    "\n",
    "# Evaluate the model on the test set\n",
    "test_loss, test_accuracy = model.evaluate(test_data, test_labels)\n",
    "print(f\"Test Loss: {test_loss}, Test Accuracy: {test_accuracy}\")"
   ]
  }
 ],
 "metadata": {
  "kernelspec": {
   "display_name": "pdiot",
   "language": "python",
   "name": "python3"
  },
  "language_info": {
   "codemirror_mode": {
    "name": "ipython",
    "version": 3
   },
   "file_extension": ".py",
   "mimetype": "text/x-python",
   "name": "python",
   "nbconvert_exporter": "python",
   "pygments_lexer": "ipython3",
   "version": "3.10.13"
  }
 },
 "nbformat": 4,
 "nbformat_minor": 2
}
