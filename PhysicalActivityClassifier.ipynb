{
 "cells": [
  {
   "cell_type": "code",
   "execution_count": 170,
   "metadata": {},
   "outputs": [],
   "source": [
    "\n",
    "GYRO = False\n",
    "SEQUENCE_LENGTH = 3\n",
    "SEQUENCE_OVERLAP = 2\n",
    "MODEL_NAME = \"physical_activity_without_gyro.keras\"\n",
    "BATCH_SIZE = 5\n",
    "EPOCHS = 40"
   ]
  },
  {
   "cell_type": "markdown",
   "metadata": {},
   "source": [
    "# EDIT THE VALUES IN THE CELL ABOVE THEN PRESS RUN ALL"
   ]
  },
  {
   "cell_type": "code",
   "execution_count": 171,
   "metadata": {},
   "outputs": [],
   "source": [
    "import file_tagger\n",
    "import sequence_genrator\n",
    "import tensorflow as tf\n",
    "import numpy as np\n",
    "from keras import layers, Sequential, models\n",
    "from sklearn.model_selection import train_test_split\n"
   ]
  },
  {
   "cell_type": "code",
   "execution_count": 172,
   "metadata": {},
   "outputs": [],
   "source": [
    "DATA_DIRECTORY = \"./all_respeck\"\n",
    "PHYSICAL_ACTIVITIES = {\n",
    "    \"ascending_stairs&normal_breathing\",\n",
    "    \"shuffle_walking&normal_breathing\",\n",
    "    \"walking&normal_breathing\",\n",
    "    \"descending_stairs&normal_breathing\",\n",
    "    \"misc_movements&normal_breathing\",\n",
    "    \"running&normal_breathing\",\n",
    "}"
   ]
  },
  {
   "cell_type": "code",
   "execution_count": 173,
   "metadata": {},
   "outputs": [],
   "source": [
    "def generate_training_data(directory, sequence_length, overlap, gyro = GYRO): # if gyro is false, only accelerometer data is used\n",
    "\n",
    "    tagged_data = []\n",
    "\n",
    "    # group each csv file into their respective areas\n",
    "    csv_dictionary = file_tagger.tag_directory(directory)\n",
    "\n",
    "    # iterates through each activity\n",
    "    for key in PHYSICAL_ACTIVITIES:\n",
    "\n",
    "        # iterates through each csv file for the activity \n",
    "        for csv_file in csv_dictionary[key]:\n",
    "            if gyro:\n",
    "                sequences = sequence_genrator.generate_sequences_from_file_with_gyroscope(directory + \"/\" + csv_file, sequence_length, overlap)\n",
    "            else:\n",
    "                sequences = sequence_genrator.generate_sequences_from_file_without_gyroscope(directory + \"/\" + csv_file, sequence_length, overlap)\n",
    "\n",
    "            # iterate through each generated sequence\n",
    "            for sequence in sequences:\n",
    "                tagged_data.append((key, sequence))\n",
    "\n",
    "    print (\"there are \" + str(len(tagged_data)) + \" tagged sequences in the dataset\")\n",
    "    return tagged_data"
   ]
  },
  {
   "cell_type": "code",
   "execution_count": 174,
   "metadata": {},
   "outputs": [],
   "source": [
    "# split data into training, dev, and test sets\n",
    "def train_dev_test_split(data, labels, dev_size, test_size, random_state=42):\n",
    "    # Split the data into training and temporary (dev + test) sets\n",
    "    train_data, temp_data, train_labels, temp_labels = train_test_split(data, labels, test_size=(dev_size + test_size), random_state=random_state)\n",
    "    \n",
    "    # Split the temporary data into dev and test sets\n",
    "    dev_data, test_data, dev_labels, test_labels = train_test_split(temp_data, temp_labels, \n",
    "                                                                 test_size=(test_size / (dev_size + test_size)), random_state=random_state)\n",
    "    \n",
    "    return train_data, dev_data, test_data, train_labels, dev_labels, test_labels"
   ]
  },
  {
   "cell_type": "code",
   "execution_count": 175,
   "metadata": {},
   "outputs": [
    {
     "name": "stdout",
     "output_type": "stream",
     "text": [
      "there are 7715 tagged sequences in the dataset\n"
     ]
    }
   ],
   "source": [
    "tagged_sequences = generate_training_data(DATA_DIRECTORY, SEQUENCE_LENGTH, SEQUENCE_OVERLAP)\n",
    "\n",
    "# Combine all sequences and labels\n",
    "sequences = [sequence for _, sequence in tagged_sequences]\n",
    "labels = [label for label, _ in tagged_sequences]\n",
    "\n",
    "\n",
    "# encode labels to numbers\n",
    "sequences = np.array(sequences, dtype=np.float32)\n",
    "label_to_index = {label: idx for idx, label in enumerate(PHYSICAL_ACTIVITIES)}\n",
    "labels_encoded = [label_to_index[label] for label in labels]\n",
    "labels_encoded = np.array(labels_encoded)"
   ]
  },
  {
   "cell_type": "code",
   "execution_count": 176,
   "metadata": {},
   "outputs": [],
   "source": [
    "#CNN MODEL\n",
    "def train_model_CNN(input_data, labels_encoded, unique_labels, epochs, batch_size, validation_data):\n",
    "    if GYRO:\n",
    "        width = 6\n",
    "    else:\n",
    "        width = 3\n",
    "    # Define the CNN model for your specific input shape\n",
    "    model = Sequential([\n",
    "        layers.Conv1D(32, 3, activation='relu', input_shape=(SEQUENCE_LENGTH*25, width)),\n",
    "        layers.MaxPooling1D(2),\n",
    "        layers.Conv1D(64, 3, activation='relu'),\n",
    "        layers.MaxPooling1D(2),\n",
    "        layers.Flatten(),\n",
    "        layers.Dense(64, activation='relu'),\n",
    "        layers.Dense(len(unique_labels), activation='softmax')\n",
    "    ])\n",
    "\n",
    "    model.compile(optimizer='adam', loss='sparse_categorical_crossentropy', metrics=['accuracy'])\n",
    "\n",
    "    # Train the CNN model\n",
    "    model.fit(input_data, labels_encoded, epochs=epochs, batch_size=batch_size, validation_data=validation_data)\n",
    "\n",
    "    return model"
   ]
  },
  {
   "cell_type": "code",
   "execution_count": 177,
   "metadata": {},
   "outputs": [
    {
     "name": "stdout",
     "output_type": "stream",
     "text": [
      "Epoch 1/40\n",
      "1235/1235 [==============================] - 3s 2ms/step - loss: 1.0392 - accuracy: 0.5800 - val_loss: 0.7451 - val_accuracy: 0.7289\n",
      "Epoch 2/40\n",
      "1235/1235 [==============================] - 2s 2ms/step - loss: 0.5520 - accuracy: 0.7996 - val_loss: 0.4558 - val_accuracy: 0.8482\n",
      "Epoch 3/40\n",
      "1235/1235 [==============================] - 2s 2ms/step - loss: 0.3821 - accuracy: 0.8626 - val_loss: 0.4301 - val_accuracy: 0.8392\n",
      "Epoch 4/40\n",
      "1235/1235 [==============================] - 2s 2ms/step - loss: 0.2854 - accuracy: 0.9002 - val_loss: 0.3546 - val_accuracy: 0.8716\n",
      "Epoch 5/40\n",
      "1235/1235 [==============================] - 2s 2ms/step - loss: 0.2165 - accuracy: 0.9227 - val_loss: 0.3169 - val_accuracy: 0.8936\n",
      "Epoch 6/40\n",
      "1235/1235 [==============================] - 2s 2ms/step - loss: 0.1873 - accuracy: 0.9368 - val_loss: 0.2723 - val_accuracy: 0.9209\n",
      "Epoch 7/40\n",
      "1235/1235 [==============================] - 2s 2ms/step - loss: 0.1511 - accuracy: 0.9478 - val_loss: 0.2548 - val_accuracy: 0.9157\n",
      "Epoch 8/40\n",
      "1235/1235 [==============================] - 2s 2ms/step - loss: 0.1099 - accuracy: 0.9619 - val_loss: 0.2196 - val_accuracy: 0.9313\n",
      "Epoch 9/40\n",
      "1235/1235 [==============================] - 2s 2ms/step - loss: 0.1067 - accuracy: 0.9632 - val_loss: 0.2272 - val_accuracy: 0.9261\n",
      "Epoch 10/40\n",
      "1235/1235 [==============================] - 2s 2ms/step - loss: 0.0922 - accuracy: 0.9694 - val_loss: 0.2837 - val_accuracy: 0.9105\n",
      "Epoch 11/40\n",
      "1235/1235 [==============================] - 2s 2ms/step - loss: 0.0850 - accuracy: 0.9691 - val_loss: 0.2321 - val_accuracy: 0.9339\n",
      "Epoch 12/40\n",
      "1235/1235 [==============================] - 3s 2ms/step - loss: 0.0571 - accuracy: 0.9812 - val_loss: 0.2432 - val_accuracy: 0.9235\n",
      "Epoch 13/40\n",
      "1235/1235 [==============================] - 2s 2ms/step - loss: 0.0783 - accuracy: 0.9765 - val_loss: 0.1780 - val_accuracy: 0.9507\n",
      "Epoch 14/40\n",
      "1235/1235 [==============================] - 2s 2ms/step - loss: 0.0514 - accuracy: 0.9819 - val_loss: 0.2143 - val_accuracy: 0.9416\n",
      "Epoch 15/40\n",
      "1235/1235 [==============================] - 2s 2ms/step - loss: 0.0579 - accuracy: 0.9802 - val_loss: 0.2142 - val_accuracy: 0.9442\n",
      "Epoch 16/40\n",
      "1235/1235 [==============================] - 2s 2ms/step - loss: 0.0445 - accuracy: 0.9844 - val_loss: 0.1816 - val_accuracy: 0.9507\n",
      "Epoch 17/40\n",
      "1235/1235 [==============================] - 2s 2ms/step - loss: 0.0608 - accuracy: 0.9812 - val_loss: 0.2411 - val_accuracy: 0.9442\n",
      "Epoch 18/40\n",
      "1235/1235 [==============================] - 2s 2ms/step - loss: 0.0508 - accuracy: 0.9848 - val_loss: 0.2185 - val_accuracy: 0.9520\n",
      "Epoch 19/40\n",
      "1235/1235 [==============================] - 2s 2ms/step - loss: 0.0327 - accuracy: 0.9888 - val_loss: 0.3430 - val_accuracy: 0.9313\n",
      "Epoch 20/40\n",
      "1235/1235 [==============================] - 2s 2ms/step - loss: 0.0398 - accuracy: 0.9861 - val_loss: 0.3881 - val_accuracy: 0.9300\n",
      "Epoch 21/40\n",
      "1235/1235 [==============================] - 2s 2ms/step - loss: 0.0482 - accuracy: 0.9869 - val_loss: 0.2985 - val_accuracy: 0.9326\n",
      "Epoch 22/40\n",
      "1235/1235 [==============================] - 2s 2ms/step - loss: 0.0411 - accuracy: 0.9867 - val_loss: 0.2840 - val_accuracy: 0.9248\n",
      "Epoch 23/40\n",
      "1235/1235 [==============================] - 2s 2ms/step - loss: 0.0167 - accuracy: 0.9938 - val_loss: 0.1817 - val_accuracy: 0.9598\n",
      "Epoch 24/40\n",
      "1235/1235 [==============================] - 2s 2ms/step - loss: 0.0453 - accuracy: 0.9862 - val_loss: 0.2128 - val_accuracy: 0.9533\n",
      "Epoch 25/40\n",
      "1235/1235 [==============================] - 3s 2ms/step - loss: 0.0268 - accuracy: 0.9909 - val_loss: 0.2326 - val_accuracy: 0.9572\n",
      "Epoch 26/40\n",
      "1235/1235 [==============================] - 3s 2ms/step - loss: 0.0347 - accuracy: 0.9885 - val_loss: 0.3683 - val_accuracy: 0.9235\n",
      "Epoch 27/40\n",
      "1235/1235 [==============================] - 3s 2ms/step - loss: 0.0430 - accuracy: 0.9877 - val_loss: 0.7100 - val_accuracy: 0.9222\n",
      "Epoch 28/40\n",
      "1235/1235 [==============================] - 3s 2ms/step - loss: 0.0306 - accuracy: 0.9904 - val_loss: 0.3971 - val_accuracy: 0.9339\n",
      "Epoch 29/40\n",
      "1235/1235 [==============================] - 3s 2ms/step - loss: 0.0331 - accuracy: 0.9896 - val_loss: 0.2045 - val_accuracy: 0.9572\n",
      "Epoch 30/40\n",
      "1235/1235 [==============================] - 3s 2ms/step - loss: 0.0108 - accuracy: 0.9953 - val_loss: 0.2233 - val_accuracy: 0.9598\n",
      "Epoch 31/40\n",
      "1235/1235 [==============================] - 3s 2ms/step - loss: 0.0576 - accuracy: 0.9849 - val_loss: 0.3135 - val_accuracy: 0.9429\n",
      "Epoch 32/40\n",
      "1235/1235 [==============================] - 3s 2ms/step - loss: 0.0125 - accuracy: 0.9942 - val_loss: 0.2786 - val_accuracy: 0.9468\n",
      "Epoch 33/40\n",
      "1235/1235 [==============================] - 3s 2ms/step - loss: 0.0119 - accuracy: 0.9948 - val_loss: 0.3890 - val_accuracy: 0.9248\n",
      "Epoch 34/40\n",
      "1235/1235 [==============================] - 3s 2ms/step - loss: 0.0329 - accuracy: 0.9885 - val_loss: 0.2415 - val_accuracy: 0.9572\n",
      "Epoch 35/40\n",
      "1235/1235 [==============================] - 3s 2ms/step - loss: 0.0277 - accuracy: 0.9900 - val_loss: 0.2463 - val_accuracy: 0.9468\n",
      "Epoch 36/40\n",
      "1235/1235 [==============================] - 3s 2ms/step - loss: 0.0240 - accuracy: 0.9924 - val_loss: 0.2755 - val_accuracy: 0.9559\n",
      "Epoch 37/40\n",
      "1235/1235 [==============================] - 3s 2ms/step - loss: 0.0266 - accuracy: 0.9922 - val_loss: 0.4620 - val_accuracy: 0.9170\n",
      "Epoch 38/40\n",
      "1235/1235 [==============================] - 3s 2ms/step - loss: 0.0122 - accuracy: 0.9947 - val_loss: 0.2933 - val_accuracy: 0.9533\n",
      "Epoch 39/40\n",
      "1235/1235 [==============================] - 3s 2ms/step - loss: 0.0070 - accuracy: 0.9963 - val_loss: 0.2897 - val_accuracy: 0.9520\n",
      "Epoch 40/40\n",
      "1235/1235 [==============================] - 3s 2ms/step - loss: 0.0467 - accuracy: 0.9857 - val_loss: 0.6748 - val_accuracy: 0.9403\n",
      "25/25 [==============================] - 0s 2ms/step - loss: 0.4200 - accuracy: 0.9534\n",
      "Test Loss: 0.4200144112110138, Test Accuracy: 0.9533678889274597\n"
     ]
    }
   ],
   "source": [
    "\n",
    "train_data, dev_data, test_data, train_labels, dev_labels, test_labels = train_dev_test_split(sequences, labels_encoded, dev_size=0.1, test_size=0.1) #10% dev, 10% test\n",
    "\n",
    "\n",
    "# train and save model (CHOOSE BETWEEN CNN AND LSTM)\n",
    "model = train_model_CNN(train_data, train_labels, PHYSICAL_ACTIVITIES, batch_size=BATCH_SIZE, epochs=EPOCHS, validation_data=(dev_data, dev_labels)) #batch_size, epochs\n",
    "\n",
    "\n",
    "# Evaluate the model on the test set\n",
    "test_loss, test_accuracy = model.evaluate(test_data, test_labels)\n",
    "print(f\"Test Loss: {test_loss}, Test Accuracy: {test_accuracy}\")\n",
    "\n",
    "# Save the trained model\n",
    "model.save(\"models/\" + MODEL_NAME)"
   ]
  }
 ],
 "metadata": {
  "kernelspec": {
   "display_name": "pdiot",
   "language": "python",
   "name": "python3"
  },
  "language_info": {
   "codemirror_mode": {
    "name": "ipython",
    "version": 3
   },
   "file_extension": ".py",
   "mimetype": "text/x-python",
   "name": "python",
   "nbconvert_exporter": "python",
   "pygments_lexer": "ipython3",
   "version": "3.10.13"
  }
 },
 "nbformat": 4,
 "nbformat_minor": 2
}
