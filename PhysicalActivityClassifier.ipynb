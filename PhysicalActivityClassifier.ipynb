{
 "cells": [
  {
   "cell_type": "code",
   "execution_count": 113,
   "metadata": {},
   "outputs": [],
   "source": [
    "\n",
    "GYRO = False\n",
    "SEQUENCE_LENGTH = 5\n",
    "SEQUENCE_OVERLAP = 4\n",
    "BATCH_SIZE = 10\n",
    "EPOCHS = 50\n",
    "MODEL_NAME = f\"physical_activity_epochs:{EPOCHS}_batch:{BATCH_SIZE}_gyro:{GYRO}_window:{SEQUENCE_LENGTH}_overlap:{SEQUENCE_OVERLAP}.keras\""
   ]
  },
  {
   "cell_type": "markdown",
   "metadata": {},
   "source": [
    "# EDIT THE VALUES IN THE CELL ABOVE THEN PRESS RUN ALL"
   ]
  },
  {
   "cell_type": "code",
   "execution_count": 114,
   "metadata": {},
   "outputs": [],
   "source": [
    "import file_tagger\n",
    "import sequence_genrator\n",
    "import tensorflow as tf\n",
    "import numpy as np\n",
    "from keras import layers, Sequential, models\n",
    "from sklearn.model_selection import train_test_split\n"
   ]
  },
  {
   "cell_type": "code",
   "execution_count": 115,
   "metadata": {},
   "outputs": [],
   "source": [
    "DATA_DIRECTORY = \"./all_respeck\"\n",
    "PHYSICAL_ACTIVITIES = {\n",
    "    \"ascending_stairs&normal_breathing\",\n",
    "    \"shuffle_walking&normal_breathing\",\n",
    "    \"walking&normal_breathing\",\n",
    "    \"descending_stairs&normal_breathing\",\n",
    "    \"misc_movements&normal_breathing\",\n",
    "    \"running&normal_breathing\",\n",
    "}"
   ]
  },
  {
   "cell_type": "code",
   "execution_count": 116,
   "metadata": {},
   "outputs": [],
   "source": [
    "def generate_training_data(directory, sequence_length, overlap, gyro = GYRO): # if gyro is false, only accelerometer data is used\n",
    "\n",
    "    tagged_data = []\n",
    "\n",
    "    # group each csv file into their respective areas\n",
    "    csv_dictionary = file_tagger.tag_directory(directory)\n",
    "\n",
    "    # iterates through each activity\n",
    "    for key in PHYSICAL_ACTIVITIES:\n",
    "\n",
    "        # iterates through each csv file for the activity \n",
    "        for csv_file in csv_dictionary[key]:\n",
    "            if gyro:\n",
    "                sequences = sequence_genrator.generate_sequences_from_file_with_gyroscope(directory + \"/\" + csv_file, sequence_length, overlap)\n",
    "            else:\n",
    "                sequences = sequence_genrator.generate_sequences_from_file_without_gyroscope(directory + \"/\" + csv_file, sequence_length, overlap)\n",
    "\n",
    "            # iterate through each generated sequence\n",
    "            for sequence in sequences:\n",
    "                tagged_data.append((key, sequence))\n",
    "\n",
    "    print (\"there are \" + str(len(tagged_data)) + \" tagged sequences in the dataset\")\n",
    "    return tagged_data"
   ]
  },
  {
   "cell_type": "code",
   "execution_count": 117,
   "metadata": {},
   "outputs": [],
   "source": [
    "# split data into training, dev, and test sets\n",
    "def train_dev_test_split(data, labels, dev_size, test_size, random_state=42):\n",
    "    # Split the data into training and temporary (dev + test) sets\n",
    "    train_data, temp_data, train_labels, temp_labels = train_test_split(data, labels, test_size=(dev_size + test_size), random_state=random_state)\n",
    "    \n",
    "    # Split the temporary data into dev and test sets\n",
    "    dev_data, test_data, dev_labels, test_labels = train_test_split(temp_data, temp_labels, \n",
    "                                                                 test_size=(test_size / (dev_size + test_size)), random_state=random_state)\n",
    "    \n",
    "    return train_data, dev_data, test_data, train_labels, dev_labels, test_labels"
   ]
  },
  {
   "cell_type": "code",
   "execution_count": 118,
   "metadata": {},
   "outputs": [
    {
     "name": "stdout",
     "output_type": "stream",
     "text": [
      "there are 7163 tagged sequences in the dataset\n"
     ]
    }
   ],
   "source": [
    "tagged_sequences = generate_training_data(DATA_DIRECTORY, SEQUENCE_LENGTH, SEQUENCE_OVERLAP)\n",
    "\n",
    "# Combine all sequences and labels\n",
    "sequences = [sequence for _, sequence in tagged_sequences]\n",
    "labels = [label for label, _ in tagged_sequences]\n",
    "\n",
    "\n",
    "# encode labels to numbers\n",
    "sequences = np.array(sequences, dtype=np.float32)\n",
    "label_to_index = {label: idx for idx, label in enumerate(PHYSICAL_ACTIVITIES)}\n",
    "labels_encoded = [label_to_index[label] for label in labels]\n",
    "labels_encoded = np.array(labels_encoded)"
   ]
  },
  {
   "cell_type": "code",
   "execution_count": 119,
   "metadata": {},
   "outputs": [],
   "source": [
    "#CNN MODEL\n",
    "def train_model_CNN(input_data, labels_encoded, unique_labels, epochs, batch_size, validation_data):\n",
    "    if GYRO:\n",
    "        width = 6\n",
    "    else:\n",
    "        width = 3\n",
    "    # Define the CNN model for your specific input shape\n",
    "    model = Sequential([\n",
    "        layers.Conv1D(32, 3, activation='relu', input_shape=(SEQUENCE_LENGTH*25, width)),\n",
    "        layers.MaxPooling1D(2),\n",
    "        layers.Conv1D(64, 3, activation='relu'),\n",
    "        layers.MaxPooling1D(2),\n",
    "        layers.Conv1D(64, 3, activation='relu'),\n",
    "        layers.MaxPooling1D(2),\n",
    "        layers.Conv1D(128, 3, activation='relu'),\n",
    "        layers.MaxPooling1D(2),\n",
    "        layers.Dropout(0.5),\n",
    "        layers.Flatten(),\n",
    "        layers.Dense(64, activation='relu'),\n",
    "        layers.Dense(len(unique_labels), activation='softmax')\n",
    "    ])\n",
    "\n",
    "    model.compile(optimizer='adam', loss='sparse_categorical_crossentropy', metrics=['accuracy'])\n",
    "\n",
    "    # Train the CNN model\n",
    "    model.fit(input_data, labels_encoded, epochs=epochs, batch_size=batch_size, validation_data=validation_data)\n",
    "\n",
    "    return model"
   ]
  },
  {
   "cell_type": "code",
   "execution_count": 120,
   "metadata": {},
   "outputs": [
    {
     "name": "stdout",
     "output_type": "stream",
     "text": [
      "Epoch 1/50\n",
      "573/573 [==============================] - 4s 4ms/step - loss: 0.9896 - accuracy: 0.5911 - val_loss: 0.4812 - val_accuracy: 0.8366\n",
      "Epoch 2/50\n",
      "573/573 [==============================] - 2s 4ms/step - loss: 0.3765 - accuracy: 0.8630 - val_loss: 0.2291 - val_accuracy: 0.9204\n",
      "Epoch 3/50\n",
      "573/573 [==============================] - 2s 4ms/step - loss: 0.2286 - accuracy: 0.9227 - val_loss: 0.1867 - val_accuracy: 0.9260\n",
      "Epoch 4/50\n",
      "573/573 [==============================] - 2s 4ms/step - loss: 0.1563 - accuracy: 0.9473 - val_loss: 0.2512 - val_accuracy: 0.9050\n",
      "Epoch 5/50\n",
      "573/573 [==============================] - 2s 3ms/step - loss: 0.1265 - accuracy: 0.9571 - val_loss: 0.1182 - val_accuracy: 0.9581\n",
      "Epoch 6/50\n",
      "573/573 [==============================] - 2s 4ms/step - loss: 0.1054 - accuracy: 0.9647 - val_loss: 0.0699 - val_accuracy: 0.9791\n",
      "Epoch 7/50\n",
      "573/573 [==============================] - 2s 4ms/step - loss: 0.0788 - accuracy: 0.9738 - val_loss: 0.0629 - val_accuracy: 0.9763\n",
      "Epoch 8/50\n",
      "573/573 [==============================] - 2s 4ms/step - loss: 0.1001 - accuracy: 0.9649 - val_loss: 0.0576 - val_accuracy: 0.9818\n",
      "Epoch 9/50\n",
      "573/573 [==============================] - 2s 4ms/step - loss: 0.0746 - accuracy: 0.9738 - val_loss: 0.0386 - val_accuracy: 0.9846\n",
      "Epoch 10/50\n",
      "573/573 [==============================] - 2s 4ms/step - loss: 0.0698 - accuracy: 0.9749 - val_loss: 0.0588 - val_accuracy: 0.9763\n",
      "Epoch 11/50\n",
      "573/573 [==============================] - 2s 4ms/step - loss: 0.0443 - accuracy: 0.9843 - val_loss: 0.0748 - val_accuracy: 0.9763\n",
      "Epoch 12/50\n",
      "573/573 [==============================] - 2s 4ms/step - loss: 0.0478 - accuracy: 0.9824 - val_loss: 0.0785 - val_accuracy: 0.9763\n",
      "Epoch 13/50\n",
      "573/573 [==============================] - 2s 4ms/step - loss: 0.0640 - accuracy: 0.9792 - val_loss: 0.0526 - val_accuracy: 0.9846\n",
      "Epoch 14/50\n",
      "573/573 [==============================] - 2s 4ms/step - loss: 0.0417 - accuracy: 0.9852 - val_loss: 0.0391 - val_accuracy: 0.9860\n",
      "Epoch 15/50\n",
      "573/573 [==============================] - 2s 4ms/step - loss: 0.0451 - accuracy: 0.9850 - val_loss: 0.0281 - val_accuracy: 0.9930\n",
      "Epoch 16/50\n",
      "573/573 [==============================] - 2s 4ms/step - loss: 0.0400 - accuracy: 0.9846 - val_loss: 0.0327 - val_accuracy: 0.9888\n",
      "Epoch 17/50\n",
      "573/573 [==============================] - 2s 4ms/step - loss: 0.0500 - accuracy: 0.9818 - val_loss: 0.0310 - val_accuracy: 0.9902\n",
      "Epoch 18/50\n",
      "573/573 [==============================] - 2s 4ms/step - loss: 0.0439 - accuracy: 0.9841 - val_loss: 0.1515 - val_accuracy: 0.9763\n",
      "Epoch 19/50\n",
      "573/573 [==============================] - 2s 4ms/step - loss: 0.0421 - accuracy: 0.9888 - val_loss: 0.0965 - val_accuracy: 0.9595\n",
      "Epoch 20/50\n",
      "573/573 [==============================] - 2s 4ms/step - loss: 0.0265 - accuracy: 0.9892 - val_loss: 0.0326 - val_accuracy: 0.9944\n",
      "Epoch 21/50\n",
      "573/573 [==============================] - 2s 4ms/step - loss: 0.0223 - accuracy: 0.9921 - val_loss: 0.0324 - val_accuracy: 0.9930\n",
      "Epoch 22/50\n",
      "573/573 [==============================] - 2s 4ms/step - loss: 0.0454 - accuracy: 0.9867 - val_loss: 0.0297 - val_accuracy: 0.9874\n",
      "Epoch 23/50\n",
      "573/573 [==============================] - 2s 4ms/step - loss: 0.0447 - accuracy: 0.9857 - val_loss: 0.0359 - val_accuracy: 0.9930\n",
      "Epoch 24/50\n",
      "573/573 [==============================] - 2s 4ms/step - loss: 0.0289 - accuracy: 0.9909 - val_loss: 0.0596 - val_accuracy: 0.9804\n",
      "Epoch 25/50\n",
      "573/573 [==============================] - 2s 4ms/step - loss: 0.0359 - accuracy: 0.9869 - val_loss: 0.0238 - val_accuracy: 0.9902\n",
      "Epoch 26/50\n",
      "573/573 [==============================] - 2s 4ms/step - loss: 0.0242 - accuracy: 0.9908 - val_loss: 0.0408 - val_accuracy: 0.9888\n",
      "Epoch 27/50\n",
      "573/573 [==============================] - 2s 4ms/step - loss: 0.0378 - accuracy: 0.9876 - val_loss: 0.0496 - val_accuracy: 0.9902\n",
      "Epoch 28/50\n",
      "573/573 [==============================] - 2s 4ms/step - loss: 0.0174 - accuracy: 0.9934 - val_loss: 0.0239 - val_accuracy: 0.9916\n",
      "Epoch 29/50\n",
      "573/573 [==============================] - 2s 4ms/step - loss: 0.0294 - accuracy: 0.9916 - val_loss: 0.0301 - val_accuracy: 0.9916\n",
      "Epoch 30/50\n",
      "573/573 [==============================] - 2s 4ms/step - loss: 0.0344 - accuracy: 0.9873 - val_loss: 0.0575 - val_accuracy: 0.9832\n",
      "Epoch 31/50\n",
      "573/573 [==============================] - 2s 4ms/step - loss: 0.0240 - accuracy: 0.9906 - val_loss: 0.0436 - val_accuracy: 0.9888\n",
      "Epoch 32/50\n",
      "573/573 [==============================] - 2s 4ms/step - loss: 0.0264 - accuracy: 0.9918 - val_loss: 0.0589 - val_accuracy: 0.9874\n",
      "Epoch 33/50\n",
      "573/573 [==============================] - 2s 4ms/step - loss: 0.0425 - accuracy: 0.9892 - val_loss: 0.0325 - val_accuracy: 0.9916\n",
      "Epoch 34/50\n",
      "573/573 [==============================] - 2s 4ms/step - loss: 0.0204 - accuracy: 0.9920 - val_loss: 0.0312 - val_accuracy: 0.9930\n",
      "Epoch 35/50\n",
      "573/573 [==============================] - 2s 4ms/step - loss: 0.0183 - accuracy: 0.9932 - val_loss: 0.0539 - val_accuracy: 0.9874\n",
      "Epoch 36/50\n",
      "573/573 [==============================] - 2s 4ms/step - loss: 0.0073 - accuracy: 0.9960 - val_loss: 0.0555 - val_accuracy: 0.9902\n",
      "Epoch 37/50\n",
      "573/573 [==============================] - 2s 4ms/step - loss: 0.0428 - accuracy: 0.9885 - val_loss: 0.0392 - val_accuracy: 0.9916\n",
      "Epoch 38/50\n",
      "573/573 [==============================] - 2s 4ms/step - loss: 0.0102 - accuracy: 0.9951 - val_loss: 0.1272 - val_accuracy: 0.9749\n",
      "Epoch 39/50\n",
      "573/573 [==============================] - 2s 4ms/step - loss: 0.0523 - accuracy: 0.9839 - val_loss: 0.0529 - val_accuracy: 0.9860\n",
      "Epoch 40/50\n",
      "573/573 [==============================] - 2s 4ms/step - loss: 0.0169 - accuracy: 0.9944 - val_loss: 0.0286 - val_accuracy: 0.9930\n",
      "Epoch 41/50\n",
      "573/573 [==============================] - 2s 4ms/step - loss: 0.0175 - accuracy: 0.9921 - val_loss: 0.0243 - val_accuracy: 0.9916\n",
      "Epoch 42/50\n",
      "573/573 [==============================] - 2s 4ms/step - loss: 0.0548 - accuracy: 0.9855 - val_loss: 0.0457 - val_accuracy: 0.9888\n",
      "Epoch 43/50\n",
      "573/573 [==============================] - 2s 4ms/step - loss: 0.0189 - accuracy: 0.9920 - val_loss: 0.0562 - val_accuracy: 0.9888\n",
      "Epoch 44/50\n",
      "573/573 [==============================] - 2s 4ms/step - loss: 0.0185 - accuracy: 0.9918 - val_loss: 0.0390 - val_accuracy: 0.9888\n",
      "Epoch 45/50\n",
      "573/573 [==============================] - 2s 4ms/step - loss: 0.0180 - accuracy: 0.9935 - val_loss: 0.0519 - val_accuracy: 0.9846\n",
      "Epoch 46/50\n",
      "573/573 [==============================] - 2s 4ms/step - loss: 0.0157 - accuracy: 0.9930 - val_loss: 0.0198 - val_accuracy: 0.9902\n",
      "Epoch 47/50\n",
      "573/573 [==============================] - 2s 4ms/step - loss: 0.0227 - accuracy: 0.9930 - val_loss: 0.0197 - val_accuracy: 0.9944\n",
      "Epoch 48/50\n",
      "573/573 [==============================] - 2s 4ms/step - loss: 0.0264 - accuracy: 0.9908 - val_loss: 0.0170 - val_accuracy: 0.9888\n",
      "Epoch 49/50\n",
      "573/573 [==============================] - 2s 4ms/step - loss: 0.0099 - accuracy: 0.9949 - val_loss: 0.0211 - val_accuracy: 0.9874\n",
      "Epoch 50/50\n",
      "573/573 [==============================] - 2s 4ms/step - loss: 0.0110 - accuracy: 0.9948 - val_loss: 0.0296 - val_accuracy: 0.9930\n",
      "23/23 [==============================] - 0s 2ms/step - loss: 0.0947 - accuracy: 0.9874\n",
      "Test Loss: 0.09470486640930176, Test Accuracy: 0.9874476790428162\n"
     ]
    },
    {
     "name": "stderr",
     "output_type": "stream",
     "text": [
      "2023-11-03 17:41:35.542697: I tensorflow/core/common_runtime/executor.cc:1197] [/device:CPU:0] (DEBUG INFO) Executor start aborting (this does not indicate an error and you can ignore this message): INVALID_ARGUMENT: You must feed a value for placeholder tensor 'inputs' with dtype float and shape [?,5,128]\n",
      "\t [[{{node inputs}}]]\n",
      "2023-11-03 17:41:35.898461: I tensorflow/core/common_runtime/executor.cc:1197] [/device:CPU:0] (DEBUG INFO) Executor start aborting (this does not indicate an error and you can ignore this message): INVALID_ARGUMENT: You must feed a value for placeholder tensor 'inputs' with dtype float and shape [?,5,128]\n",
      "\t [[{{node inputs}}]]\n",
      "WARNING:absl:Found untraced functions such as _jit_compiled_convolution_op, _jit_compiled_convolution_op, _jit_compiled_convolution_op, _jit_compiled_convolution_op, _update_step_xla while saving (showing 5 of 5). These functions will not be directly callable after loading.\n"
     ]
    },
    {
     "name": "stdout",
     "output_type": "stream",
     "text": [
      "INFO:tensorflow:Assets written to: models/PhysicalClassifiers/physical_activity_epochs:50_batch:10_gyro:False_window:5_overlap:4.keras_0.9874476790428162/assets\n"
     ]
    },
    {
     "name": "stderr",
     "output_type": "stream",
     "text": [
      "INFO:tensorflow:Assets written to: models/PhysicalClassifiers/physical_activity_epochs:50_batch:10_gyro:False_window:5_overlap:4.keras_0.9874476790428162/assets\n"
     ]
    }
   ],
   "source": [
    "\n",
    "train_data, dev_data, test_data, train_labels, dev_labels, test_labels = train_dev_test_split(sequences, labels_encoded, dev_size=0.1, test_size=0.1) #10% dev, 10% test\n",
    "\n",
    "\n",
    "# train and save model (CHOOSE BETWEEN CNN AND LSTM)\n",
    "model = train_model_CNN(train_data, train_labels, PHYSICAL_ACTIVITIES, batch_size=BATCH_SIZE, epochs=EPOCHS, validation_data=(dev_data, dev_labels)) #batch_size, epochs\n",
    "\n",
    "\n",
    "# Evaluate the model on the test set\n",
    "test_loss, test_accuracy = model.evaluate(test_data, test_labels)\n",
    "print(f\"Test Loss: {test_loss}, Test Accuracy: {test_accuracy}\")\n",
    "\n",
    "# Save the trained model\n",
    "model.save(f\"models/PhysicalActivityClassifiers/{MODEL_NAME}_{test_accuracy}\")"
   ]
  }
 ],
 "metadata": {
  "kernelspec": {
   "display_name": "pdiot",
   "language": "python",
   "name": "python3"
  },
  "language_info": {
   "codemirror_mode": {
    "name": "ipython",
    "version": 3
   },
   "file_extension": ".py",
   "mimetype": "text/x-python",
   "name": "python",
   "nbconvert_exporter": "python",
   "pygments_lexer": "ipython3",
   "version": "3.11.4"
  }
 },
 "nbformat": 4,
 "nbformat_minor": 2
}
