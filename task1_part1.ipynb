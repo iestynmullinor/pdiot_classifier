{
 "cells": [
  {
   "cell_type": "code",
   "execution_count": 22,
   "metadata": {},
   "outputs": [],
   "source": [
    "GYRO = False\n",
    "SEQUENCE_LENGTH = 4\n",
    "SEQUENCE_OVERLAP = 3\n",
    "BATCH_SIZE = 10\n",
    "EPOCHS = 10\n",
    "MODEL_NAME = f\"position_epochs:{EPOCHS}_batch:{BATCH_SIZE}_gyro:{GYRO}_window:{SEQUENCE_LENGTH}_overlap:{SEQUENCE_OVERLAP}\""
   ]
  },
  {
   "cell_type": "markdown",
   "metadata": {},
   "source": [
    "### This code trains a binary classifier which returns \"moving\" or \"static\" activity, currently trains on all data\n"
   ]
  },
  {
   "cell_type": "code",
   "execution_count": 23,
   "metadata": {},
   "outputs": [],
   "source": [
    "import file_tagger\n",
    "import sequence_genrator\n",
    "import tensorflow as tf\n",
    "import numpy as np\n",
    "from keras import layers, Sequential, models\n",
    "from sklearn.model_selection import train_test_split\n",
    "\n",
    "STATIONARY = {\n",
    "    \"sitting\",\n",
    "    \"standing\",\n",
    "    \"lying_down_back\",\n",
    "    \"lying_down_stomach\",\n",
    "    \"lying_down_right\",\n",
    "    \"lying_down_left\"\n",
    "}\n",
    "\n",
    "\n",
    "MOVING = {\n",
    "    \"sitting\",\n",
    "    \"standing\",\n",
    "    \"lying_down_left\",\n",
    "    \"lying_down_right\",\n",
    "    \"lying_down_back\",\n",
    "    \"lying_down_stomach\",\n",
    "    \"walking\",\n",
    "    \"ascending_stairs\",\n",
    "    \"descending_stairs\",\n",
    "    \"shuffle_walking\",\n",
    "    \"running\",\n",
    "    \"misc_movements\"\n",
    "}\n",
    "\n",
    "OUTCOMES = [\"stationary\", \"moving\"]\n",
    "\n",
    "DATA_DIRECTORY = \"./all_respeck\""
   ]
  },
  {
   "cell_type": "code",
   "execution_count": 24,
   "metadata": {},
   "outputs": [],
   "source": [
    "# split data into training, dev, and test sets\n",
    "def train_dev_test_split(data, labels, dev_size, test_size):\n",
    "    # Split the data into training and temporary (dev + test) sets\n",
    "    train_data, temp_data, train_labels, temp_labels = train_test_split(data, labels, test_size=(dev_size + test_size))\n",
    "    \n",
    "    # Split the temporary data into dev and test sets\n",
    "    dev_data, test_data, dev_labels, test_labels = train_test_split(temp_data, temp_labels, \n",
    "                                                                 test_size=(test_size / (dev_size + test_size)))\n",
    "    \n",
    "    return train_data, dev_data, test_data, train_labels, dev_labels, test_labels"
   ]
  },
  {
   "cell_type": "code",
   "execution_count": 25,
   "metadata": {},
   "outputs": [],
   "source": [
    "# generate training data\n",
    "def generate_training_data(directory, sequence_length, overlap, gyro = GYRO): # if gyro is false, only accelerometer data is used\n",
    "\n",
    "    tagged_data = []\n",
    "\n",
    "    # group each csv file into their respective areas\n",
    "    csv_dictionary = file_tagger.tag_directory(directory)\n",
    "\n",
    "    # iterates through each activity\n",
    "    for key in csv_dictionary.keys():\n",
    "\n",
    "        # iterates through each csv file for the activity \n",
    "        for csv_file in csv_dictionary[key]:\n",
    "            if gyro:\n",
    "                sequences = sequence_genrator.generate_sequences_from_file_with_gyroscope(directory + \"/\" + csv_file, sequence_length, overlap)\n",
    "            else:\n",
    "                sequences = sequence_genrator.generate_sequences_from_file_without_gyroscope(directory + \"/\" + csv_file, sequence_length, overlap)\n",
    "\n",
    "            # iterate through each generated sequence\n",
    "            for sequence in sequences:\n",
    "                if key.split(\"&\")[0] in STATIONARY:\n",
    "                    tagged_data.append((\"stationary\", sequence))\n",
    "                elif key.split(\"&\")[0] in MOVING:\n",
    "                    tagged_data.append((\"moving\", sequence))\n",
    "                else:\n",
    "                    print(\"ERROR: activity not found\")\n",
    "                    return None\n",
    "\n",
    "    print (\"there are \" + str(len(tagged_data)) + \" tagged sequences in the dataset\")\n",
    "    return tagged_data"
   ]
  },
  {
   "cell_type": "code",
   "execution_count": 26,
   "metadata": {},
   "outputs": [],
   "source": [
    "#CNN MODEL\n",
    "def train_model_CNN(input_data, labels_encoded, unique_labels, epochs, batch_size, validation_data):\n",
    "    if GYRO:\n",
    "        width = 6\n",
    "    else:\n",
    "        width = 3\n",
    "    # Define the CNN model for your specific input shape\n",
    "    model = Sequential([\n",
    "        layers.Conv1D(32, 3, activation='relu', input_shape=(SEQUENCE_LENGTH*25, width)),\n",
    "        layers.MaxPooling1D(2),\n",
    "        layers.Conv1D(64, 3, activation='relu'),\n",
    "        layers.MaxPooling1D(2),\n",
    "        layers.Conv1D(64, 3, activation='relu'),\n",
    "        layers.MaxPooling1D(2),\n",
    "        layers.Conv1D(128, 3, activation='relu'),\n",
    "        layers.MaxPooling1D(2),\n",
    "        layers.Dropout(0.5),\n",
    "        layers.Flatten(),\n",
    "        layers.Dense(64, activation='relu'),\n",
    "        layers.Dense(1, activation='sigmoid')\n",
    "    ])\n",
    "\n",
    "    model.compile(optimizer='adam', loss='binary_crossentropy', metrics=['accuracy'])\n",
    "\n",
    "    # Train the CNN model\n",
    "    model.fit(input_data, labels_encoded, epochs=epochs, batch_size=batch_size, validation_data=validation_data)\n",
    "\n",
    "    return model"
   ]
  },
  {
   "cell_type": "code",
   "execution_count": 27,
   "metadata": {},
   "outputs": [],
   "source": [
    "\n",
    "\n",
    "\n",
    "def generate_binary_model(tagged_sequences):\n",
    "    # Combine all sequences and labels\n",
    "    sequences = [sequence for _, sequence in tagged_sequences]\n",
    "    labels = [label for label, _ in tagged_sequences]\n",
    "\n",
    "\n",
    "    # encode labels to numbers\n",
    "    sequences = np.array(sequences, dtype=np.float32)\n",
    "    label_to_index = {label: idx for idx, label in enumerate(OUTCOMES)}\n",
    "    labels_encoded = [label_to_index[label] for label in labels]\n",
    "    labels_encoded = np.array(labels_encoded)\n",
    "\n",
    "    train_data, dev_data, test_data, train_labels, dev_labels, test_labels = train_dev_test_split(sequences, labels_encoded, dev_size=0.1, test_size=0.1) #10% dev, 10% test\n",
    "\n",
    "\n",
    "    # train and save model (CHOOSE BETWEEN CNN AND LSTM)\n",
    "    model = train_model_CNN(train_data, train_labels, OUTCOMES, batch_size=BATCH_SIZE, epochs=EPOCHS, validation_data=(dev_data, dev_labels)) #batch_size, epochs\n",
    "\n",
    "\n",
    "    # Evaluate the model on the test set\n",
    "    test_loss, test_accuracy = model.evaluate(test_data, test_labels)\n",
    "    print (f\"Test Loss: {test_loss}, Test Accuracy: {test_accuracy}\")\n",
    "    return model"
   ]
  },
  {
   "cell_type": "code",
   "execution_count": 28,
   "metadata": {},
   "outputs": [
    {
     "name": "stdout",
     "output_type": "stream",
     "text": [
      "there are 54563 tagged sequences in the dataset\n",
      "Epoch 1/10\n",
      "4365/4365 [==============================] - 13s 3ms/step - loss: 0.0562 - accuracy: 0.9811 - val_loss: 0.0230 - val_accuracy: 0.9930\n",
      "Epoch 2/10\n",
      "4365/4365 [==============================] - 12s 3ms/step - loss: 0.0281 - accuracy: 0.9909 - val_loss: 0.0237 - val_accuracy: 0.9930\n",
      "Epoch 3/10\n",
      "4365/4365 [==============================] - 12s 3ms/step - loss: 0.0202 - accuracy: 0.9931 - val_loss: 0.0115 - val_accuracy: 0.9967\n",
      "Epoch 4/10\n",
      "4365/4365 [==============================] - 12s 3ms/step - loss: 0.0205 - accuracy: 0.9934 - val_loss: 0.0086 - val_accuracy: 0.9973\n",
      "Epoch 5/10\n",
      "4365/4365 [==============================] - 12s 3ms/step - loss: 0.0162 - accuracy: 0.9953 - val_loss: 0.0105 - val_accuracy: 0.9962\n",
      "Epoch 6/10\n",
      "4365/4365 [==============================] - 12s 3ms/step - loss: 0.0137 - accuracy: 0.9955 - val_loss: 0.0095 - val_accuracy: 0.9969\n",
      "Epoch 7/10\n",
      "4365/4365 [==============================] - 13s 3ms/step - loss: 0.0148 - accuracy: 0.9957 - val_loss: 0.0066 - val_accuracy: 0.9978\n",
      "Epoch 8/10\n",
      "4365/4365 [==============================] - 12s 3ms/step - loss: 0.0116 - accuracy: 0.9962 - val_loss: 0.0066 - val_accuracy: 0.9973\n",
      "Epoch 9/10\n",
      "4365/4365 [==============================] - 12s 3ms/step - loss: 0.0122 - accuracy: 0.9963 - val_loss: 0.0056 - val_accuracy: 0.9982\n",
      "Epoch 10/10\n",
      "4365/4365 [==============================] - 12s 3ms/step - loss: 0.0108 - accuracy: 0.9965 - val_loss: 0.0106 - val_accuracy: 0.9973\n",
      "171/171 [==============================] - 0s 2ms/step - loss: 0.0153 - accuracy: 0.9965\n",
      "Test Loss: 0.01529097743332386, Test Accuracy: 0.9965182542800903\n"
     ]
    }
   ],
   "source": [
    "tagged_sequences = generate_training_data(DATA_DIRECTORY, SEQUENCE_LENGTH, SEQUENCE_OVERLAP, GYRO)\n",
    "model = generate_binary_model(tagged_sequences)\n",
    "\n",
    "# Save the trained model\n",
    "#model.save(f\"models/Task1/{MODEL_NAME}_{test_accuracy}.keras\")"
   ]
  }
 ],
 "metadata": {
  "kernelspec": {
   "display_name": "pdiot",
   "language": "python",
   "name": "python3"
  },
  "language_info": {
   "codemirror_mode": {
    "name": "ipython",
    "version": 3
   },
   "file_extension": ".py",
   "mimetype": "text/x-python",
   "name": "python",
   "nbconvert_exporter": "python",
   "pygments_lexer": "ipython3",
   "version": "3.10.13"
  }
 },
 "nbformat": 4,
 "nbformat_minor": 2
}
