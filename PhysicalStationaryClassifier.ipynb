{
 "cells": [
  {
   "cell_type": "code",
   "execution_count": null,
   "metadata": {},
   "outputs": [],
   "source": [
    "import file_tagger\n",
    "import training_data_generator\n",
    "import tensorflow as tf\n",
    "import numpy as np\n",
    "\n",
    "from keras import layers, Sequential, models"
   ]
  },
  {
   "cell_type": "code",
   "execution_count": null,
   "metadata": {},
   "outputs": [],
   "source": [
    "DATA_DIRECTORY = \"./all_respeck\"\n",
    "PHYSICAL_ACTIVITIES = {\n",
    "    \"ascending_stairs&normal_breathing\",\n",
    "    \"shuffle_walking&normal_breathing\",\n",
    "    \"walking&normal_breathing\",\n",
    "    \"descending_stairs&normal_breathing\",\n",
    "    \"misc_movements&normal_breathing\",\n",
    "    \"running&normal_breathing\",\n",
    "}"
   ]
  },
  {
   "cell_type": "code",
   "execution_count": null,
   "metadata": {},
   "outputs": [],
   "source": [
    "def getLabel(recordingType):\n",
    "    # print(recordingType)\n",
    "    return 0 if recordingType in PHYSICAL_ACTIVITIES else 1\n",
    "\n",
    "\n",
    "def generateTrainingData(directory, sequenceLength, overlap):\n",
    "    tagged_data = []\n",
    "\n",
    "    csv_dictionary = file_tagger.tag_directory(directory)\n",
    "\n",
    "    for recordingType in csv_dictionary:\n",
    "        for csv_file in csv_dictionary[recordingType]:\n",
    "            sequences = sequence_genrator.generate_sequences_from_file_without_gyroscope(directory + \"/\" + csv_file, sequenceLength, overlap)\n",
    "            for sequence in sequences:\n",
    "                tagged_data.append((getLabel(recordingType), sequence))\n",
    "            \n",
    "\n",
    "    print (\"there are \" + str(len(tagged_data)) + \" tagged sequences in the dataset\")    \n",
    "    return tagged_data"
   ]
  },
  {
   "cell_type": "code",
   "execution_count": null,
   "metadata": {},
   "outputs": [],
   "source": [
    "trainingData = generateTrainingData(DATA_DIRECTORY, 3, 0)\n",
    "# Combine all sequences and labels\n",
    "sequences = [sequence for _, sequence in trainingData]\n",
    "labels = [label for label, _ in trainingData]\n",
    "\n",
    "\n",
    "# encode labels to numbers\n",
    "sequences = np.array(sequences, dtype=np.float32)\n",
    "labels = np.array(labels)"
   ]
  },
  {
   "cell_type": "code",
   "execution_count": null,
   "metadata": {},
   "outputs": [],
   "source": [
    "def train_model_CNN(input_data, labels, unique_labels, epochs, batch_size):\n",
    "    # Define the CNN model for your specific input shape\n",
    "    model = Sequential([\n",
    "        layers.Conv1D(32, 3, activation='relu', input_shape=(75, 3)),\n",
    "        layers.MaxPooling1D(2),\n",
    "        layers.Conv1D(64, 3, activation='relu'),\n",
    "        layers.MaxPooling1D(2),\n",
    "        layers.Flatten(),\n",
    "        layers.Dense(64, activation='relu'),\n",
    "        layers.Dense(len(unique_labels), activation='softmax')\n",
    "    ])\n",
    "\n",
    "    model.compile(optimizer='adam', loss='sparse_categorical_crossentropy', metrics=['accuracy'])\n",
    "\n",
    "    # Train the CNN model\n",
    "    model.fit(input_data, labels, epochs=epochs, batch_size=batch_size)\n",
    "\n",
    "    return model"
   ]
  },
  {
   "cell_type": "code",
   "execution_count": null,
   "metadata": {},
   "outputs": [],
   "source": [
    "model = train_model_CNN(trainingData, labels, [0,1], 30, 5)"
   ]
  }
 ],
 "metadata": {
  "kernelspec": {
   "display_name": "ML",
   "language": "python",
   "name": "python3"
  },
  "language_info": {
   "codemirror_mode": {
    "name": "ipython",
    "version": 3
   },
   "file_extension": ".py",
   "mimetype": "text/x-python",
   "name": "python",
   "nbconvert_exporter": "python",
   "pygments_lexer": "ipython3",
   "version": "3.10.12"
  }
 },
 "nbformat": 4,
 "nbformat_minor": 2
}
