{
 "cells": [
  {
   "cell_type": "code",
   "execution_count": 1,
   "metadata": {},
   "outputs": [],
   "source": [
    "GYRO = False\n",
    "SEQUENCE_LENGTH = 6\n",
    "SEQUENCE_OVERLAP = 5\n",
    "BATCH_SIZE = 10\n",
    "EPOCHS = 50\n",
    "MODEL_NAME = f\"physical_or_stationary_epochs:{EPOCHS}_batch:{BATCH_SIZE}_gyro:{GYRO}_window:{SEQUENCE_LENGTH}_overlap:{SEQUENCE_OVERLAP}.keras\"\n",
    "\n",
    "TRAINING_SIZE = 0.8\n",
    "DEV_SIZE = 0.1\n",
    "TEST_SIZE = 0.1"
   ]
  },
  {
   "cell_type": "code",
   "execution_count": 2,
   "metadata": {},
   "outputs": [
    {
     "name": "stderr",
     "output_type": "stream",
     "text": [
      "2023-11-06 13:10:52.527213: I tensorflow/core/platform/cpu_feature_guard.cc:182] This TensorFlow binary is optimized to use available CPU instructions in performance-critical operations.\n",
      "To enable the following instructions: SSE4.1 SSE4.2 AVX AVX2 FMA, in other operations, rebuild TensorFlow with the appropriate compiler flags.\n"
     ]
    },
    {
     "ename": "ModuleNotFoundError",
     "evalue": "No module named 'tensorflow_decision_forests'",
     "output_type": "error",
     "traceback": [
      "\u001b[0;31m---------------------------------------------------------------------------\u001b[0m",
      "\u001b[0;31mModuleNotFoundError\u001b[0m                       Traceback (most recent call last)",
      "\u001b[1;32m/Users/danmorrice/Documents/4FourthYear/Semester1/PDIoT/pdiot_classifier/RandomForest.ipynb Cell 2\u001b[0m line \u001b[0;36m9\n\u001b[1;32m      <a href='vscode-notebook-cell:/Users/danmorrice/Documents/4FourthYear/Semester1/PDIoT/pdiot_classifier/RandomForest.ipynb#W1sZmlsZQ%3D%3D?line=5'>6</a>\u001b[0m \u001b[39mfrom\u001b[39;00m \u001b[39msklearn\u001b[39;00m\u001b[39m.\u001b[39;00m\u001b[39mmodel_selection\u001b[39;00m \u001b[39mimport\u001b[39;00m train_test_split\n\u001b[1;32m      <a href='vscode-notebook-cell:/Users/danmorrice/Documents/4FourthYear/Semester1/PDIoT/pdiot_classifier/RandomForest.ipynb#W1sZmlsZQ%3D%3D?line=7'>8</a>\u001b[0m \u001b[39mimport\u001b[39;00m \u001b[39mtensorflow\u001b[39;00m \u001b[39mas\u001b[39;00m \u001b[39mtf\u001b[39;00m\n\u001b[0;32m----> <a href='vscode-notebook-cell:/Users/danmorrice/Documents/4FourthYear/Semester1/PDIoT/pdiot_classifier/RandomForest.ipynb#W1sZmlsZQ%3D%3D?line=8'>9</a>\u001b[0m \u001b[39mimport\u001b[39;00m \u001b[39mtensorflow_decision_forests\u001b[39;00m \u001b[39mas\u001b[39;00m \u001b[39mtfdf\u001b[39;00m\n",
      "\u001b[0;31mModuleNotFoundError\u001b[0m: No module named 'tensorflow_decision_forests'"
     ]
    }
   ],
   "source": [
    "import file_tagger\n",
    "import math\n",
    "import numpy as np\n",
    "import pandas as pd\n",
    "import sequence_genrator\n",
    "from sklearn.model_selection import train_test_split\n",
    "\n",
    "import tensorflow as tf\n",
    "import tensorflow_decision_forests as tfdf\n",
    "\n"
   ]
  },
  {
   "cell_type": "code",
   "execution_count": null,
   "metadata": {},
   "outputs": [],
   "source": [
    "DATA_DIRECTORY = \"./all_respeck\"\n",
    "PHYSICAL_ACTIVITIES = {\n",
    "    \"sitting&normal_breathing\",\n",
    "    \"standing&normal_breathing\",\n",
    "    \"lying_down_left&normal_breathing\",\n",
    "    \"lying_down_right&normal_breathing\",\n",
    "    \"lying_down_back&normal_breathing\",\n",
    "    \"lying_down_stomach&normal_breathing\",\n",
    "    \"walking&normal_breathing\",\n",
    "    \"ascending_stairs&normal_breathing\",\n",
    "    \"descending_stairs&normal_breathing\",\n",
    "    \"shuffle_walking&normal_breathing\",\n",
    "    \"running&normal_breathing\",\n",
    "    \"misc_movements&normal_breathing\"\n",
    "}"
   ]
  },
  {
   "cell_type": "code",
   "execution_count": null,
   "metadata": {},
   "outputs": [],
   "source": [
    "def getLabel(recordingType):\n",
    "    return 0 if recordingType in PHYSICAL_ACTIVITIES else 1\n",
    "\n",
    "\n",
    "def generateTrainingData(directory, sequenceLength, overlap):\n",
    "    tagged_data = []\n",
    "\n",
    "    csv_dictionary = file_tagger.tag_directory(directory)\n",
    "\n",
    "    for recordingType in csv_dictionary:\n",
    "        for csv_file in csv_dictionary[recordingType]:\n",
    "            sequences = sequence_genrator.generate_sequences_from_file_without_gyroscope(directory + \"/\" + csv_file, sequenceLength, overlap)\n",
    "            for sequence in sequences:\n",
    "                tagged_data.append((getLabel(recordingType), sequence))\n",
    "            \n",
    "\n",
    "    print (\"there are \" + str(len(tagged_data)) + \" tagged sequences in the dataset\")    \n",
    "    return tagged_data"
   ]
  },
  {
   "cell_type": "code",
   "execution_count": null,
   "metadata": {},
   "outputs": [],
   "source": [
    "# split data into training, dev, and test sets\n",
    "def train_dev_test_split(data, labels, dev_size, test_size, random_state=42):\n",
    "    # Split the data into training and temporary (dev + test) sets\n",
    "    train_data, temp_data, train_labels, temp_labels = train_test_split(data, labels, test_size=(dev_size + test_size), random_state=random_state)\n",
    "    \n",
    "    # Split the temporary data into dev and test sets\n",
    "    dev_data, test_data, dev_labels, test_labels = train_test_split(temp_data, temp_labels, \n",
    "                                                                 test_size=(test_size / (dev_size + test_size)), random_state=random_state)\n",
    "    \n",
    "    return train_data, dev_data, test_data, train_labels, dev_labels, test_labels"
   ]
  },
  {
   "cell_type": "code",
   "execution_count": null,
   "metadata": {},
   "outputs": [],
   "source": [
    "def train_model_CNN(input_data, labels, unique_labels, epochs, batch_size, validation_data):\n",
    "    # Define the CNN model for your specific input shape\n",
    "    model = Sequential([\n",
    "        layers.Conv1D(32, 3, activation='relu', input_shape=(75, 3)),\n",
    "        layers.MaxPooling1D(2),\n",
    "        layers.Conv1D(64, 3, activation='relu'),\n",
    "        layers.Conv1D(64, 3, activation='relu'),\n",
    "        layers.MaxPooling1D(2),\n",
    "        layers.Conv1D(128, 3, activation='relu'),\n",
    "        layers.Conv1D(128, 3, activation='relu'),\n",
    "        layers.MaxPooling1D(2),\n",
    "        layers.Dropout(0.5),\n",
    "        layers.Flatten(),\n",
    "        layers.Dense(128, activation='relu'),\n",
    "        layers.Dense(64, activation='relu'),\n",
    "        layers.Dense(len(unique_labels), activation='softmax')\n",
    "    ])\n",
    "\n",
    "    model.compile(optimizer='adam', loss='sparse_categorical_crossentropy', metrics=['accuracy'])\n",
    "\n",
    "    # Train the CNN model\n",
    "    model.fit(input_data, labels, epochs=epochs, batch_size=batch_size, validation_data=validation_data)\n",
    "\n",
    "\n",
    "    return model"
   ]
  },
  {
   "cell_type": "code",
   "execution_count": null,
   "metadata": {},
   "outputs": [
    {
     "name": "stdout",
     "output_type": "stream",
     "text": [
      "there are 20160 tagged sequences in the dataset\n",
      "Epoch 1/50\n",
      "1613/1613 [==============================] - 14s 7ms/step - loss: 0.4540 - accuracy: 0.8213 - val_loss: 0.4257 - val_accuracy: 0.8338\n",
      "Epoch 2/50\n",
      "1613/1613 [==============================] - 12s 7ms/step - loss: 0.4084 - accuracy: 0.8470 - val_loss: 0.4171 - val_accuracy: 0.8398\n",
      "Epoch 3/50\n",
      "1613/1613 [==============================] - 12s 8ms/step - loss: 0.4021 - accuracy: 0.8501 - val_loss: 0.4172 - val_accuracy: 0.8398\n",
      "Epoch 4/50\n",
      "1613/1613 [==============================] - 13s 8ms/step - loss: 0.3473 - accuracy: 0.8527 - val_loss: 0.3309 - val_accuracy: 0.8413\n",
      "Epoch 5/50\n",
      "1613/1613 [==============================] - 12s 7ms/step - loss: 0.2905 - accuracy: 0.8610 - val_loss: 0.2854 - val_accuracy: 0.8537\n",
      "Epoch 6/50\n",
      "1613/1613 [==============================] - 11s 7ms/step - loss: 0.2805 - accuracy: 0.8653 - val_loss: 0.2894 - val_accuracy: 0.8576\n",
      "Epoch 7/50\n",
      "1613/1613 [==============================] - 12s 7ms/step - loss: 0.2688 - accuracy: 0.8713 - val_loss: 0.2775 - val_accuracy: 0.8715\n",
      "Epoch 8/50\n",
      "1613/1613 [==============================] - 12s 7ms/step - loss: 0.2619 - accuracy: 0.8727 - val_loss: 0.2733 - val_accuracy: 0.8695\n",
      "Epoch 9/50\n",
      "1613/1613 [==============================] - 12s 7ms/step - loss: 0.2565 - accuracy: 0.8756 - val_loss: 0.2751 - val_accuracy: 0.8705\n",
      "Epoch 10/50\n",
      "1613/1613 [==============================] - 11s 7ms/step - loss: 0.2558 - accuracy: 0.8783 - val_loss: 0.2814 - val_accuracy: 0.8576\n",
      "Epoch 11/50\n",
      "1613/1613 [==============================] - 12s 7ms/step - loss: 0.2517 - accuracy: 0.8808 - val_loss: 0.2711 - val_accuracy: 0.8735\n",
      "Epoch 12/50\n",
      "1613/1613 [==============================] - 12s 7ms/step - loss: 0.2516 - accuracy: 0.8812 - val_loss: 0.2897 - val_accuracy: 0.8571\n",
      "Epoch 13/50\n",
      "1613/1613 [==============================] - 11s 7ms/step - loss: 0.2473 - accuracy: 0.8837 - val_loss: 0.2760 - val_accuracy: 0.8690\n",
      "Epoch 14/50\n",
      "1613/1613 [==============================] - 12s 8ms/step - loss: 0.2468 - accuracy: 0.8824 - val_loss: 0.2575 - val_accuracy: 0.8705\n",
      "Epoch 15/50\n",
      "1613/1613 [==============================] - 12s 7ms/step - loss: 0.2417 - accuracy: 0.8846 - val_loss: 0.2490 - val_accuracy: 0.8879\n",
      "Epoch 16/50\n",
      "1613/1613 [==============================] - 12s 8ms/step - loss: 0.2391 - accuracy: 0.8862 - val_loss: 0.2872 - val_accuracy: 0.8631\n",
      "Epoch 17/50\n",
      "1613/1613 [==============================] - 12s 7ms/step - loss: 0.2349 - accuracy: 0.8912 - val_loss: 0.2574 - val_accuracy: 0.8795\n",
      "Epoch 18/50\n",
      "1613/1613 [==============================] - 11s 7ms/step - loss: 0.2338 - accuracy: 0.8915 - val_loss: 0.2606 - val_accuracy: 0.8814\n",
      "Epoch 19/50\n",
      "1613/1613 [==============================] - 12s 7ms/step - loss: 0.2339 - accuracy: 0.8904 - val_loss: 0.2946 - val_accuracy: 0.8824\n",
      "Epoch 20/50\n",
      "1613/1613 [==============================] - 12s 8ms/step - loss: 0.2357 - accuracy: 0.8907 - val_loss: 0.2548 - val_accuracy: 0.8824\n",
      "Epoch 21/50\n",
      "1613/1613 [==============================] - 11s 7ms/step - loss: 0.2307 - accuracy: 0.8937 - val_loss: 0.2523 - val_accuracy: 0.8849\n",
      "Epoch 22/50\n",
      "1613/1613 [==============================] - 12s 8ms/step - loss: 0.2249 - accuracy: 0.8972 - val_loss: 0.2683 - val_accuracy: 0.8730\n",
      "Epoch 23/50\n",
      "1613/1613 [==============================] - 11s 7ms/step - loss: 0.2327 - accuracy: 0.8940 - val_loss: 0.2539 - val_accuracy: 0.8854\n",
      "Epoch 24/50\n",
      "1613/1613 [==============================] - 11s 7ms/step - loss: 0.2240 - accuracy: 0.8968 - val_loss: 0.2523 - val_accuracy: 0.8869\n",
      "Epoch 25/50\n",
      "1613/1613 [==============================] - 11s 7ms/step - loss: 0.2283 - accuracy: 0.8934 - val_loss: 0.2599 - val_accuracy: 0.8814\n",
      "Epoch 26/50\n",
      "1613/1613 [==============================] - 11s 7ms/step - loss: 0.2227 - accuracy: 0.8967 - val_loss: 0.2491 - val_accuracy: 0.8884\n",
      "Epoch 27/50\n",
      "1613/1613 [==============================] - 11s 7ms/step - loss: 0.2175 - accuracy: 0.9003 - val_loss: 0.2430 - val_accuracy: 0.8929\n",
      "Epoch 28/50\n",
      "1613/1613 [==============================] - 12s 7ms/step - loss: 0.2193 - accuracy: 0.8984 - val_loss: 0.2802 - val_accuracy: 0.8819\n",
      "Epoch 29/50\n",
      "1613/1613 [==============================] - 11s 7ms/step - loss: 0.2222 - accuracy: 0.8962 - val_loss: 0.2642 - val_accuracy: 0.8795\n",
      "Epoch 30/50\n",
      "1613/1613 [==============================] - 11s 7ms/step - loss: 0.2300 - accuracy: 0.8951 - val_loss: 0.2417 - val_accuracy: 0.8889\n",
      "Epoch 31/50\n",
      "1613/1613 [==============================] - 11s 7ms/step - loss: 0.2154 - accuracy: 0.9017 - val_loss: 0.2644 - val_accuracy: 0.8899\n",
      "Epoch 32/50\n",
      "1613/1613 [==============================] - 12s 8ms/step - loss: 0.2190 - accuracy: 0.8988 - val_loss: 0.3121 - val_accuracy: 0.8864\n",
      "Epoch 33/50\n",
      "1613/1613 [==============================] - 12s 8ms/step - loss: 0.2174 - accuracy: 0.9032 - val_loss: 0.2583 - val_accuracy: 0.8934\n",
      "Epoch 34/50\n",
      "1613/1613 [==============================] - 11s 7ms/step - loss: 0.2157 - accuracy: 0.9014 - val_loss: 0.2445 - val_accuracy: 0.8914\n",
      "Epoch 35/50\n",
      "1613/1613 [==============================] - 11s 7ms/step - loss: 0.2148 - accuracy: 0.9022 - val_loss: 0.2496 - val_accuracy: 0.8854\n",
      "Epoch 36/50\n",
      "1613/1613 [==============================] - 11s 7ms/step - loss: 0.2201 - accuracy: 0.8996 - val_loss: 0.2502 - val_accuracy: 0.8934\n",
      "Epoch 37/50\n",
      "1613/1613 [==============================] - 11s 7ms/step - loss: 0.2166 - accuracy: 0.9030 - val_loss: 0.2654 - val_accuracy: 0.8904\n",
      "Epoch 38/50\n",
      "1613/1613 [==============================] - 12s 8ms/step - loss: 0.2090 - accuracy: 0.9052 - val_loss: 0.2518 - val_accuracy: 0.8894\n",
      "Epoch 39/50\n",
      "1613/1613 [==============================] - 11s 7ms/step - loss: 0.2071 - accuracy: 0.9042 - val_loss: 0.2824 - val_accuracy: 0.8869\n",
      "Epoch 40/50\n",
      "1613/1613 [==============================] - 12s 8ms/step - loss: 0.2104 - accuracy: 0.9030 - val_loss: 0.2604 - val_accuracy: 0.8844\n",
      "Epoch 41/50\n",
      "1613/1613 [==============================] - 11s 7ms/step - loss: 0.2139 - accuracy: 0.9027 - val_loss: 0.2655 - val_accuracy: 0.8948\n",
      "Epoch 42/50\n",
      "1613/1613 [==============================] - 11s 7ms/step - loss: 0.2080 - accuracy: 0.9050 - val_loss: 0.2757 - val_accuracy: 0.8914\n",
      "Epoch 43/50\n",
      "1613/1613 [==============================] - 12s 8ms/step - loss: 0.2051 - accuracy: 0.9079 - val_loss: 0.2769 - val_accuracy: 0.8849\n",
      "Epoch 44/50\n",
      "1613/1613 [==============================] - 11s 7ms/step - loss: 0.2095 - accuracy: 0.9052 - val_loss: 0.2635 - val_accuracy: 0.8924\n",
      "Epoch 45/50\n",
      "1613/1613 [==============================] - 11s 7ms/step - loss: 0.2078 - accuracy: 0.9072 - val_loss: 0.2618 - val_accuracy: 0.8978\n",
      "Epoch 46/50\n",
      "1613/1613 [==============================] - 11s 7ms/step - loss: 0.2030 - accuracy: 0.9071 - val_loss: 0.2621 - val_accuracy: 0.8914\n",
      "Epoch 47/50\n",
      "1613/1613 [==============================] - 12s 7ms/step - loss: 0.2104 - accuracy: 0.9056 - val_loss: 0.2403 - val_accuracy: 0.8978\n",
      "Epoch 48/50\n",
      "1613/1613 [==============================] - 11s 7ms/step - loss: 0.2070 - accuracy: 0.9077 - val_loss: 0.2395 - val_accuracy: 0.9038\n",
      "Epoch 49/50\n",
      "1613/1613 [==============================] - 11s 7ms/step - loss: 0.2057 - accuracy: 0.9083 - val_loss: 0.2616 - val_accuracy: 0.8914\n",
      "Epoch 50/50\n",
      "1613/1613 [==============================] - 11s 7ms/step - loss: 0.2055 - accuracy: 0.9049 - val_loss: 0.2804 - val_accuracy: 0.8973\n",
      "63/63 [==============================] - 0s 4ms/step - loss: 0.2231 - accuracy: 0.8988\n",
      "Test Loss: 0.22311460971832275, Test Accuracy: 0.898809552192688\n"
     ]
    },
    {
     "name": "stderr",
     "output_type": "stream",
     "text": [
      "2023-11-05 02:57:57.862997: I tensorflow/core/common_runtime/executor.cc:1197] [/device:CPU:0] (DEBUG INFO) Executor start aborting (this does not indicate an error and you can ignore this message): INVALID_ARGUMENT: You must feed a value for placeholder tensor 'inputs' with dtype float and shape [?,6,128]\n",
      "\t [[{{node inputs}}]]\n",
      "2023-11-05 02:57:58.433802: I tensorflow/core/common_runtime/executor.cc:1197] [/device:CPU:0] (DEBUG INFO) Executor start aborting (this does not indicate an error and you can ignore this message): INVALID_ARGUMENT: You must feed a value for placeholder tensor 'inputs' with dtype float and shape [?,6,128]\n",
      "\t [[{{node inputs}}]]\n",
      "WARNING:absl:Found untraced functions such as _jit_compiled_convolution_op, _jit_compiled_convolution_op, _jit_compiled_convolution_op, _jit_compiled_convolution_op, _jit_compiled_convolution_op while saving (showing 5 of 6). These functions will not be directly callable after loading.\n"
     ]
    },
    {
     "name": "stdout",
     "output_type": "stream",
     "text": [
      "INFO:tensorflow:Assets written to: models/PhysicalStationaryBinaryClassifier/physical_or_stationary_epochs:50_batch:10_gyro:False_window:6_overlap:5.keras_0.898809552192688/assets\n"
     ]
    },
    {
     "name": "stderr",
     "output_type": "stream",
     "text": [
      "INFO:tensorflow:Assets written to: models/PhysicalStationaryBinaryClassifier/physical_or_stationary_epochs:50_batch:10_gyro:False_window:6_overlap:5.keras_0.898809552192688/assets\n"
     ]
    }
   ],
   "source": [
    "# tagged_sequences = generateTrainingData(DATA_DIRECTORY, 3, 0)\n",
    "\n",
    "# # Get lists of training data and labels\n",
    "# sequences = [sequence for _, sequence in tagged_sequences]\n",
    "# labels = [label for label, _ in tagged_sequences]\n",
    "\n",
    "\n",
    "# # Convert to numpy arrays\n",
    "# sequences = np.array(sequences, dtype=np.float32)\n",
    "# labels = np.array(labels)\n",
    "\n",
    "# train_data, dev_data, test_data, train_labels, dev_labels, test_labels = train_dev_test_split(sequences, labels, dev_size=DEV_SIZE, test_size=TEST_SIZE) #10% dev, 10% test\n",
    "\n",
    "\n",
    "# model = train_model_CNN(train_data, train_labels, [0,1], epochs=EPOCHS, batch_size=BATCH_SIZE, validation_data=(dev_data, dev_labels))\n",
    "\n",
    "# test_loss, test_accuracy = model.evaluate(test_data, test_labels)\n",
    "# print(f\"Test Loss: {test_loss}, Test Accuracy: {test_accuracy}\")\n",
    "\n",
    "# # Save the trained model\n",
    "# model.save(f\"models/PhysicalStationaryBinaryClassifier/{MODEL_NAME}_{test_accuracy}\")"
   ]
  }
 ],
 "metadata": {
  "kernelspec": {
   "display_name": "ML",
   "language": "python",
   "name": "python3"
  },
  "language_info": {
   "codemirror_mode": {
    "name": "ipython",
    "version": 3
   },
   "file_extension": ".py",
   "mimetype": "text/x-python",
   "name": "python",
   "nbconvert_exporter": "python",
   "pygments_lexer": "ipython3",
   "version": "3.11.4"
  }
 },
 "nbformat": 4,
 "nbformat_minor": 2
}
