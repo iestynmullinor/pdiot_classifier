{
 "cells": [
  {
   "cell_type": "code",
   "execution_count": 1,
   "metadata": {},
   "outputs": [],
   "source": [
    "from sklearn.ensemble import RandomForestClassifier\n",
    "import file_tagger\n",
    "import sequence_genrator\n",
    "from sklearn.model_selection import train_test_split\n",
    "from sklearn.metrics import accuracy_score\n",
    "\n"
   ]
  },
  {
   "cell_type": "code",
   "execution_count": 2,
   "metadata": {},
   "outputs": [],
   "source": [
    "GYRO = False\n",
    "SEQUENCE_LENGTH = 4\n",
    "SEQUENCE_OVERLAP = 3\n",
    "\n",
    "ACTIVITIES_TO_CLASSIFY = {\n",
    "\n",
    "    'misc_movements&normal_breathing', 'sitting&singing', 'standing&talking', 'sitting&normal_breathing', 'standing&laughing', 'lying_down_back&talking', 'standing&normal_breathing', 'lying_down_back&coughing', 'standing&singing', 'shuffle_walking&normal_breathing', 'descending_stairs&normal_breathing', 'sitting&eating', 'standing&coughing', 'lying_down_stomach&normal_breathing', 'lying_down_stomach&talking', 'lying_down_left&hyperventilating', 'sitting&hyperventilating', 'lying_down_back&singing', 'lying_down_right&hyperventilating', 'walking&normal_breathing', 'sitting&coughing', 'sitting&talking', 'lying_down_right&coughing', 'lying_down_stomach&hyperventilating', 'lying_down_left&normal_breathing', 'standing&hyperventilating', 'lying_down_stomach&laughing', 'lying_down_left&coughing', 'standing&eating', 'running&normal_breathing', 'lying_down_stomach&singing', 'lying_down_back&hyperventilating', 'lying_down_back&normal_breathing', 'lying_down_right&normal_breathing', 'lying_down_left&laughing', 'lying_down_left&talking', 'ascending_stairs&normal_breathing', 'lying_down_right&laughing', 'lying_down_right&singing', 'lying_down_right&talking', 'lying_down_back&laughing', 'sitting&laughing', 'lying_down_stomach&coughing', 'lying_down_left&singing'\n",
    "  \n",
    "}\n",
    "\n",
    "DATA_DIRECTORY = \"./all_respeck\"\n"
   ]
  },
  {
   "cell_type": "code",
   "execution_count": 3,
   "metadata": {},
   "outputs": [],
   "source": [
    "# generate training data\n",
    "def generate_training_data(directory, sequence_length, overlap, gyro = GYRO): # if gyro is false, only accelerometer data is used\n",
    "\n",
    "    tagged_data = []\n",
    "\n",
    "    # group each csv file into their respective areas\n",
    "    csv_dictionary = file_tagger.tag_directory(directory)\n",
    "\n",
    "    # iterates through each activity\n",
    "    for key in ACTIVITIES_TO_CLASSIFY:\n",
    "\n",
    "        # iterates through each csv file for the activity \n",
    "        for csv_file in csv_dictionary[key]:\n",
    "            if gyro:\n",
    "                sequences = sequence_genrator.generate_sequences_from_file_with_gyroscope(directory + \"/\" + csv_file, sequence_length, overlap)\n",
    "            else:\n",
    "                sequences = sequence_genrator.generate_sequences_from_file_without_gyroscope(directory + \"/\" + csv_file, sequence_length, overlap)\n",
    "\n",
    "            # iterate through each generated sequence\n",
    "            for sequence in sequences:\n",
    "                tagged_data.append((key, sequence))\n",
    "\n",
    "    print (\"there are \" + str(len(tagged_data)) + \" tagged sequences in the dataset\")\n",
    "    return tagged_data"
   ]
  },
  {
   "cell_type": "code",
   "execution_count": 4,
   "metadata": {},
   "outputs": [
    {
     "name": "stdout",
     "output_type": "stream",
     "text": [
      "there are 54563 tagged sequences in the dataset\n",
      "Random Forest Accuracy: 0.7853935673050491\n"
     ]
    }
   ],
   "source": [
    "\n",
    "tagged_data = generate_training_data(DATA_DIRECTORY, SEQUENCE_LENGTH, SEQUENCE_OVERLAP, gyro = GYRO)\n",
    "X = [sequence.flatten() for tag, sequence in tagged_data]\n",
    "y = [tag for tag, sequence in tagged_data]\n",
    "\n",
    "# Split the data into training and testing sets\n",
    "X_train, X_test, y_train, y_test = train_test_split(X, y, test_size=0.2)\n",
    "\n",
    "# Create a Random Forest classifier with 100 trees (you can adjust the parameters as needed)\n",
    "rf_classifier = RandomForestClassifier(n_estimators=200)\n",
    "\n",
    "# Fit the Random Forest to the training data\n",
    "rf_classifier.fit(X_train, y_train)\n",
    "\n",
    "y_pred = rf_classifier.predict(X_test)\n",
    "accuracy = accuracy_score(y_test, y_pred)\n",
    "print(f\"Random Forest Accuracy: {accuracy}\")\n"
   ]
  }
 ],
 "metadata": {
  "kernelspec": {
   "display_name": "pdiot",
   "language": "python",
   "name": "python3"
  },
  "language_info": {
   "codemirror_mode": {
    "name": "ipython",
    "version": 3
   },
   "file_extension": ".py",
   "mimetype": "text/x-python",
   "name": "python",
   "nbconvert_exporter": "python",
   "pygments_lexer": "ipython3",
   "version": "3.10.13"
  }
 },
 "nbformat": 4,
 "nbformat_minor": 2
}
